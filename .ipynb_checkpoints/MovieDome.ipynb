{
 "cells": [
  {
   "cell_type": "code",
   "execution_count": 1,
   "metadata": {
    "id": "9lddSCtW8G_B"
   },
   "outputs": [],
   "source": [
    "#importing the required libraries\n",
    "import numpy as np\n",
    "import pandas as pd\n",
    "import pickle\n",
    "#import matrix_factorization_utilities\n",
    "import scipy.sparse as sp\n",
    "from scipy.sparse.linalg import svds"
   ]
  },
  {
   "cell_type": "code",
   "execution_count": 2,
   "metadata": {
    "id": "gcMyZJi78G_G"
   },
   "outputs": [],
   "source": [
    "# Reading the ratings data\n",
    "ratings = pd.read_csv('ratings.csv')"
   ]
  },
  {
   "cell_type": "code",
   "execution_count": 3,
   "metadata": {
    "colab": {
     "base_uri": "https://localhost:8080/",
     "height": 34
    },
    "id": "PgigXZXc8G_J",
    "outputId": "c5a6a8bc-ba7a-4e58-d11a-29d78ed29f2a"
   },
   "outputs": [
    {
     "data": {
      "text/plain": [
       "26024289"
      ]
     },
     "execution_count": 3,
     "metadata": {},
     "output_type": "execute_result"
    }
   ],
   "source": [
    "len(ratings)"
   ]
  },
  {
   "cell_type": "code",
   "execution_count": 4,
   "metadata": {
    "id": "wMtZRJQI8G_N"
   },
   "outputs": [],
   "source": [
    "#Just taking the required columns\n",
    "ratings = ratings[['userId', 'movieId','rating']]"
   ]
  },
  {
   "cell_type": "code",
   "execution_count": 5,
   "metadata": {
    "id": "icn_JFqB8G_Q"
   },
   "outputs": [],
   "source": [
    "# Checking if the user has rated the same movie twice, in that case we just take max of them\n",
    "ratings_df = ratings.groupby(['userId','movieId']).aggregate(np.max)"
   ]
  },
  {
   "cell_type": "code",
   "execution_count": 6,
   "metadata": {
    "colab": {
     "base_uri": "https://localhost:8080/",
     "height": 34
    },
    "id": "5eV_tDor8G_T",
    "outputId": "ad4990fe-bc17-4adc-befa-747ebfef2feb"
   },
   "outputs": [
    {
     "data": {
      "text/plain": [
       "26024289"
      ]
     },
     "execution_count": 6,
     "metadata": {},
     "output_type": "execute_result"
    }
   ],
   "source": [
    "# In this case there are no such cases where the user has rated the same movie twice.\n",
    "len(ratings_df)"
   ]
  },
  {
   "cell_type": "code",
   "execution_count": 7,
   "metadata": {
    "colab": {
     "base_uri": "https://localhost:8080/",
     "height": 195
    },
    "id": "9xd53kZR8G_Y",
    "outputId": "cd1fcd76-7ee2-45e5-d500-b101a354f79e"
   },
   "outputs": [
    {
     "data": {
      "text/html": [
       "<div>\n",
       "<style scoped>\n",
       "    .dataframe tbody tr th:only-of-type {\n",
       "        vertical-align: middle;\n",
       "    }\n",
       "\n",
       "    .dataframe tbody tr th {\n",
       "        vertical-align: top;\n",
       "    }\n",
       "\n",
       "    .dataframe thead th {\n",
       "        text-align: right;\n",
       "    }\n",
       "</style>\n",
       "<table border=\"1\" class=\"dataframe\">\n",
       "  <thead>\n",
       "    <tr style=\"text-align: right;\">\n",
       "      <th></th>\n",
       "      <th>userId</th>\n",
       "      <th>movieId</th>\n",
       "      <th>rating</th>\n",
       "    </tr>\n",
       "  </thead>\n",
       "  <tbody>\n",
       "    <tr>\n",
       "      <th>0</th>\n",
       "      <td>1</td>\n",
       "      <td>110</td>\n",
       "      <td>1.0</td>\n",
       "    </tr>\n",
       "    <tr>\n",
       "      <th>1</th>\n",
       "      <td>1</td>\n",
       "      <td>147</td>\n",
       "      <td>4.5</td>\n",
       "    </tr>\n",
       "    <tr>\n",
       "      <th>2</th>\n",
       "      <td>1</td>\n",
       "      <td>858</td>\n",
       "      <td>5.0</td>\n",
       "    </tr>\n",
       "    <tr>\n",
       "      <th>3</th>\n",
       "      <td>1</td>\n",
       "      <td>1221</td>\n",
       "      <td>5.0</td>\n",
       "    </tr>\n",
       "    <tr>\n",
       "      <th>4</th>\n",
       "      <td>1</td>\n",
       "      <td>1246</td>\n",
       "      <td>5.0</td>\n",
       "    </tr>\n",
       "  </tbody>\n",
       "</table>\n",
       "</div>"
      ],
      "text/plain": [
       "   userId  movieId  rating\n",
       "0       1      110     1.0\n",
       "1       1      147     4.5\n",
       "2       1      858     5.0\n",
       "3       1     1221     5.0\n",
       "4       1     1246     5.0"
      ]
     },
     "execution_count": 7,
     "metadata": {},
     "output_type": "execute_result"
    }
   ],
   "source": [
    "# Inspecting the data\n",
    "ratings.head()"
   ]
  },
  {
   "cell_type": "code",
   "execution_count": 8,
   "metadata": {
    "colab": {
     "base_uri": "https://localhost:8080/",
     "height": 225
    },
    "id": "sdHksWGh8G_b",
    "outputId": "6007824b-482e-4344-a856-342324d1decd"
   },
   "outputs": [
    {
     "data": {
      "text/html": [
       "<div>\n",
       "<style scoped>\n",
       "    .dataframe tbody tr th:only-of-type {\n",
       "        vertical-align: middle;\n",
       "    }\n",
       "\n",
       "    .dataframe tbody tr th {\n",
       "        vertical-align: top;\n",
       "    }\n",
       "\n",
       "    .dataframe thead th {\n",
       "        text-align: right;\n",
       "    }\n",
       "</style>\n",
       "<table border=\"1\" class=\"dataframe\">\n",
       "  <thead>\n",
       "    <tr style=\"text-align: right;\">\n",
       "      <th></th>\n",
       "      <th></th>\n",
       "      <th>rating</th>\n",
       "    </tr>\n",
       "    <tr>\n",
       "      <th>userId</th>\n",
       "      <th>movieId</th>\n",
       "      <th></th>\n",
       "    </tr>\n",
       "  </thead>\n",
       "  <tbody>\n",
       "    <tr>\n",
       "      <th rowspan=\"5\" valign=\"top\">1</th>\n",
       "      <th>110</th>\n",
       "      <td>1.0</td>\n",
       "    </tr>\n",
       "    <tr>\n",
       "      <th>147</th>\n",
       "      <td>4.5</td>\n",
       "    </tr>\n",
       "    <tr>\n",
       "      <th>858</th>\n",
       "      <td>5.0</td>\n",
       "    </tr>\n",
       "    <tr>\n",
       "      <th>1221</th>\n",
       "      <td>5.0</td>\n",
       "    </tr>\n",
       "    <tr>\n",
       "      <th>1246</th>\n",
       "      <td>5.0</td>\n",
       "    </tr>\n",
       "  </tbody>\n",
       "</table>\n",
       "</div>"
      ],
      "text/plain": [
       "                rating\n",
       "userId movieId        \n",
       "1      110         1.0\n",
       "       147         4.5\n",
       "       858         5.0\n",
       "       1221        5.0\n",
       "       1246        5.0"
      ]
     },
     "execution_count": 8,
     "metadata": {},
     "output_type": "execute_result"
    }
   ],
   "source": [
    "ratings_df.head()"
   ]
  },
  {
   "cell_type": "code",
   "execution_count": 9,
   "metadata": {
    "colab": {
     "base_uri": "https://localhost:8080/",
     "height": 34
    },
    "id": "xwstDKUX8G_d",
    "outputId": "ae1d6e1d-7617-4d9c-e317-9a3d8dbd7264"
   },
   "outputs": [
    {
     "data": {
      "text/plain": [
       "270896"
      ]
     },
     "execution_count": 9,
     "metadata": {},
     "output_type": "execute_result"
    }
   ],
   "source": [
    "# Counting no of unique users\n",
    "len(ratings['userId'].unique())"
   ]
  },
  {
   "cell_type": "code",
   "execution_count": 10,
   "metadata": {
    "id": "atgw7jSO8G_g"
   },
   "outputs": [],
   "source": [
    "#Getting the percentage count of each rating value \n",
    "count_ratings = ratings.groupby('rating').count()\n",
    "count_ratings['perc_total']=round(count_ratings['userId']*100/count_ratings['userId'].sum(),1)"
   ]
  },
  {
   "cell_type": "code",
   "execution_count": 11,
   "metadata": {
    "colab": {
     "base_uri": "https://localhost:8080/",
     "height": 373
    },
    "id": "tTaXf3cp8G_j",
    "outputId": "f8fe03e0-db16-434a-8214-de5563edd7c3"
   },
   "outputs": [
    {
     "data": {
      "text/html": [
       "<div>\n",
       "<style scoped>\n",
       "    .dataframe tbody tr th:only-of-type {\n",
       "        vertical-align: middle;\n",
       "    }\n",
       "\n",
       "    .dataframe tbody tr th {\n",
       "        vertical-align: top;\n",
       "    }\n",
       "\n",
       "    .dataframe thead th {\n",
       "        text-align: right;\n",
       "    }\n",
       "</style>\n",
       "<table border=\"1\" class=\"dataframe\">\n",
       "  <thead>\n",
       "    <tr style=\"text-align: right;\">\n",
       "      <th></th>\n",
       "      <th>userId</th>\n",
       "      <th>movieId</th>\n",
       "      <th>perc_total</th>\n",
       "    </tr>\n",
       "    <tr>\n",
       "      <th>rating</th>\n",
       "      <th></th>\n",
       "      <th></th>\n",
       "      <th></th>\n",
       "    </tr>\n",
       "  </thead>\n",
       "  <tbody>\n",
       "    <tr>\n",
       "      <th>0.5</th>\n",
       "      <td>404897</td>\n",
       "      <td>404897</td>\n",
       "      <td>1.6</td>\n",
       "    </tr>\n",
       "    <tr>\n",
       "      <th>1.0</th>\n",
       "      <td>843310</td>\n",
       "      <td>843310</td>\n",
       "      <td>3.2</td>\n",
       "    </tr>\n",
       "    <tr>\n",
       "      <th>1.5</th>\n",
       "      <td>403607</td>\n",
       "      <td>403607</td>\n",
       "      <td>1.6</td>\n",
       "    </tr>\n",
       "    <tr>\n",
       "      <th>2.0</th>\n",
       "      <td>1762440</td>\n",
       "      <td>1762440</td>\n",
       "      <td>6.8</td>\n",
       "    </tr>\n",
       "    <tr>\n",
       "      <th>2.5</th>\n",
       "      <td>1255358</td>\n",
       "      <td>1255358</td>\n",
       "      <td>4.8</td>\n",
       "    </tr>\n",
       "    <tr>\n",
       "      <th>3.0</th>\n",
       "      <td>5256722</td>\n",
       "      <td>5256722</td>\n",
       "      <td>20.2</td>\n",
       "    </tr>\n",
       "    <tr>\n",
       "      <th>3.5</th>\n",
       "      <td>3116213</td>\n",
       "      <td>3116213</td>\n",
       "      <td>12.0</td>\n",
       "    </tr>\n",
       "    <tr>\n",
       "      <th>4.0</th>\n",
       "      <td>6998802</td>\n",
       "      <td>6998802</td>\n",
       "      <td>26.9</td>\n",
       "    </tr>\n",
       "    <tr>\n",
       "      <th>4.5</th>\n",
       "      <td>2170441</td>\n",
       "      <td>2170441</td>\n",
       "      <td>8.3</td>\n",
       "    </tr>\n",
       "    <tr>\n",
       "      <th>5.0</th>\n",
       "      <td>3812499</td>\n",
       "      <td>3812499</td>\n",
       "      <td>14.6</td>\n",
       "    </tr>\n",
       "  </tbody>\n",
       "</table>\n",
       "</div>"
      ],
      "text/plain": [
       "         userId  movieId  perc_total\n",
       "rating                              \n",
       "0.5      404897   404897         1.6\n",
       "1.0      843310   843310         3.2\n",
       "1.5      403607   403607         1.6\n",
       "2.0     1762440  1762440         6.8\n",
       "2.5     1255358  1255358         4.8\n",
       "3.0     5256722  5256722        20.2\n",
       "3.5     3116213  3116213        12.0\n",
       "4.0     6998802  6998802        26.9\n",
       "4.5     2170441  2170441         8.3\n",
       "5.0     3812499  3812499        14.6"
      ]
     },
     "execution_count": 11,
     "metadata": {},
     "output_type": "execute_result"
    }
   ],
   "source": [
    "count_ratings"
   ]
  },
  {
   "cell_type": "code",
   "execution_count": 12,
   "metadata": {
    "colab": {
     "base_uri": "https://localhost:8080/",
     "height": 302
    },
    "id": "wVqPO_7s8G_l",
    "outputId": "0d4cb994-f6d3-4913-ef6c-a31aa053e392"
   },
   "outputs": [
    {
     "data": {
      "text/plain": [
       "<AxesSubplot:xlabel='rating'>"
      ]
     },
     "execution_count": 12,
     "metadata": {},
     "output_type": "execute_result"
    },
    {
     "data": {
      "image/png": "[encoded data removed]",
      "text/plain": [
       "<Figure size 432x288 with 1 Axes>"
      ]
     },
     "metadata": {
      "needs_background": "light"
     },
     "output_type": "display_data"
    }
   ],
   "source": [
    "#Visualising the percentage total for each rating\n",
    "count_ratings['perc_total'].plot.bar()"
   ]
  },
  {
   "cell_type": "code",
   "execution_count": 13,
   "metadata": {
    "id": "sVEAR6Iv8G_o"
   },
   "outputs": [],
   "source": [
    "#reading the movies dataset\n",
    "movie_list = pd.read_csv('movies.csv')"
   ]
  },
  {
   "cell_type": "code",
   "execution_count": 14,
   "metadata": {
    "colab": {
     "base_uri": "https://localhost:8080/",
     "height": 34
    },
    "id": "5meajJPm8G_q",
    "outputId": "4119d7be-88f8-4c71-e702-8e296e536e19"
   },
   "outputs": [
    {
     "data": {
      "text/plain": [
       "9742"
      ]
     },
     "execution_count": 14,
     "metadata": {},
     "output_type": "execute_result"
    }
   ],
   "source": [
    "len(movie_list)"
   ]
  },
  {
   "cell_type": "code",
   "execution_count": 15,
   "metadata": {
    "colab": {
     "base_uri": "https://localhost:8080/",
     "height": 195
    },
    "id": "tMEVZx_d8G_t",
    "outputId": "a45aa286-27a3-4ab3-a325-51d6e7277dbc"
   },
   "outputs": [
    {
     "data": {
      "text/html": [
       "<div>\n",
       "<style scoped>\n",
       "    .dataframe tbody tr th:only-of-type {\n",
       "        vertical-align: middle;\n",
       "    }\n",
       "\n",
       "    .dataframe tbody tr th {\n",
       "        vertical-align: top;\n",
       "    }\n",
       "\n",
       "    .dataframe thead th {\n",
       "        text-align: right;\n",
       "    }\n",
       "</style>\n",
       "<table border=\"1\" class=\"dataframe\">\n",
       "  <thead>\n",
       "    <tr style=\"text-align: right;\">\n",
       "      <th></th>\n",
       "      <th>movieId</th>\n",
       "      <th>title</th>\n",
       "      <th>genres</th>\n",
       "    </tr>\n",
       "  </thead>\n",
       "  <tbody>\n",
       "    <tr>\n",
       "      <th>0</th>\n",
       "      <td>1</td>\n",
       "      <td>Toy Story (1995)</td>\n",
       "      <td>Adventure|Animation|Children|Comedy|Fantasy</td>\n",
       "    </tr>\n",
       "    <tr>\n",
       "      <th>1</th>\n",
       "      <td>2</td>\n",
       "      <td>Jumanji (1995)</td>\n",
       "      <td>Adventure|Children|Fantasy</td>\n",
       "    </tr>\n",
       "    <tr>\n",
       "      <th>2</th>\n",
       "      <td>3</td>\n",
       "      <td>Grumpier Old Men (1995)</td>\n",
       "      <td>Comedy|Romance</td>\n",
       "    </tr>\n",
       "    <tr>\n",
       "      <th>3</th>\n",
       "      <td>4</td>\n",
       "      <td>Waiting to Exhale (1995)</td>\n",
       "      <td>Comedy|Drama|Romance</td>\n",
       "    </tr>\n",
       "    <tr>\n",
       "      <th>4</th>\n",
       "      <td>5</td>\n",
       "      <td>Father of the Bride Part II (1995)</td>\n",
       "      <td>Comedy</td>\n",
       "    </tr>\n",
       "  </tbody>\n",
       "</table>\n",
       "</div>"
      ],
      "text/plain": [
       "   movieId                               title  \\\n",
       "0        1                    Toy Story (1995)   \n",
       "1        2                      Jumanji (1995)   \n",
       "2        3             Grumpier Old Men (1995)   \n",
       "3        4            Waiting to Exhale (1995)   \n",
       "4        5  Father of the Bride Part II (1995)   \n",
       "\n",
       "                                        genres  \n",
       "0  Adventure|Animation|Children|Comedy|Fantasy  \n",
       "1                   Adventure|Children|Fantasy  \n",
       "2                               Comedy|Romance  \n",
       "3                         Comedy|Drama|Romance  \n",
       "4                                       Comedy  "
      ]
     },
     "execution_count": 15,
     "metadata": {},
     "output_type": "execute_result"
    }
   ],
   "source": [
    "# insepcting the movie list dataframe\n",
    "movie_list.head()"
   ]
  },
  {
   "cell_type": "code",
   "execution_count": 16,
   "metadata": {
    "id": "oeinvixP8G_w"
   },
   "outputs": [],
   "source": [
    "# reading the tags datast\n",
    "tags = pd.read_csv('tags.csv')"
   ]
  },
  {
   "cell_type": "code",
   "execution_count": 17,
   "metadata": {
    "colab": {
     "base_uri": "https://localhost:8080/",
     "height": 195
    },
    "id": "u-kn19MC8G_z",
    "outputId": "afa2230d-fe36-4be7-d1e2-03a7736c3aa7"
   },
   "outputs": [
    {
     "data": {
      "text/html": [
       "<div>\n",
       "<style scoped>\n",
       "    .dataframe tbody tr th:only-of-type {\n",
       "        vertical-align: middle;\n",
       "    }\n",
       "\n",
       "    .dataframe tbody tr th {\n",
       "        vertical-align: top;\n",
       "    }\n",
       "\n",
       "    .dataframe thead th {\n",
       "        text-align: right;\n",
       "    }\n",
       "</style>\n",
       "<table border=\"1\" class=\"dataframe\">\n",
       "  <thead>\n",
       "    <tr style=\"text-align: right;\">\n",
       "      <th></th>\n",
       "      <th>userId</th>\n",
       "      <th>movieId</th>\n",
       "      <th>tag</th>\n",
       "      <th>timestamp</th>\n",
       "    </tr>\n",
       "  </thead>\n",
       "  <tbody>\n",
       "    <tr>\n",
       "      <th>0</th>\n",
       "      <td>2</td>\n",
       "      <td>60756</td>\n",
       "      <td>funny</td>\n",
       "      <td>1445714994</td>\n",
       "    </tr>\n",
       "    <tr>\n",
       "      <th>1</th>\n",
       "      <td>2</td>\n",
       "      <td>60756</td>\n",
       "      <td>Highly quotable</td>\n",
       "      <td>1445714996</td>\n",
       "    </tr>\n",
       "    <tr>\n",
       "      <th>2</th>\n",
       "      <td>2</td>\n",
       "      <td>60756</td>\n",
       "      <td>will ferrell</td>\n",
       "      <td>1445714992</td>\n",
       "    </tr>\n",
       "    <tr>\n",
       "      <th>3</th>\n",
       "      <td>2</td>\n",
       "      <td>89774</td>\n",
       "      <td>Boxing story</td>\n",
       "      <td>1445715207</td>\n",
       "    </tr>\n",
       "    <tr>\n",
       "      <th>4</th>\n",
       "      <td>2</td>\n",
       "      <td>89774</td>\n",
       "      <td>MMA</td>\n",
       "      <td>1445715200</td>\n",
       "    </tr>\n",
       "  </tbody>\n",
       "</table>\n",
       "</div>"
      ],
      "text/plain": [
       "   userId  movieId              tag   timestamp\n",
       "0       2    60756            funny  1445714994\n",
       "1       2    60756  Highly quotable  1445714996\n",
       "2       2    60756     will ferrell  1445714992\n",
       "3       2    89774     Boxing story  1445715207\n",
       "4       2    89774              MMA  1445715200"
      ]
     },
     "execution_count": 17,
     "metadata": {},
     "output_type": "execute_result"
    }
   ],
   "source": [
    "# inspecting the tags data frame\n",
    "tags.head()"
   ]
  },
  {
   "cell_type": "code",
   "execution_count": 18,
   "metadata": {
    "id": "L6lly98G8G_3"
   },
   "outputs": [],
   "source": [
    "# inspecting various genres\n",
    "genres = movie_list['genres']"
   ]
  },
  {
   "cell_type": "code",
   "execution_count": 19,
   "metadata": {
    "colab": {
     "base_uri": "https://localhost:8080/",
     "height": 118
    },
    "id": "o8x05Hse8G_7",
    "outputId": "1ce7cbc7-08dc-443e-b277-b30fa9267597"
   },
   "outputs": [
    {
     "data": {
      "text/plain": [
       "0    Adventure|Animation|Children|Comedy|Fantasy\n",
       "1                     Adventure|Children|Fantasy\n",
       "2                                 Comedy|Romance\n",
       "3                           Comedy|Drama|Romance\n",
       "4                                         Comedy\n",
       "Name: genres, dtype: object"
      ]
     },
     "execution_count": 19,
     "metadata": {},
     "output_type": "execute_result"
    }
   ],
   "source": [
    "genres.head()"
   ]
  },
  {
   "cell_type": "code",
   "execution_count": 20,
   "metadata": {
    "colab": {
     "base_uri": "https://localhost:8080/",
     "height": 353
    },
    "id": "bNaE7aqw8G_9",
    "outputId": "f30345d8-03cd-4946-d31f-d488b6cc3108"
   },
   "outputs": [
    {
     "data": {
      "text/plain": [
       "['Romance',\n",
       " 'Children',\n",
       " 'Film-Noir',\n",
       " 'Animation',\n",
       " 'Crime',\n",
       " 'Documentary',\n",
       " 'Western',\n",
       " 'Action',\n",
       " 'Drama',\n",
       " 'Thriller',\n",
       " 'Fantasy',\n",
       " 'Comedy',\n",
       " '(no genres listed)',\n",
       " 'Mystery',\n",
       " 'Sci-Fi',\n",
       " 'Horror',\n",
       " 'Adventure',\n",
       " 'Musical',\n",
       " 'War',\n",
       " 'IMAX']"
      ]
     },
     "execution_count": 20,
     "metadata": {},
     "output_type": "execute_result"
    }
   ],
   "source": [
    "genre_list = \"\"\n",
    "for index,row in movie_list.iterrows():\n",
    "        genre_list += row.genres + \"|\"\n",
    "#split the string into a list of values\n",
    "genre_list_split = genre_list.split('|')\n",
    "#de-duplicate values\n",
    "new_list = list(set(genre_list_split))\n",
    "#remove the value that is blank\n",
    "new_list.remove('')\n",
    "#inspect list of genres\n",
    "new_list"
   ]
  },
  {
   "cell_type": "code",
   "execution_count": 21,
   "metadata": {
    "id": "7kHRwhnJ8HAA"
   },
   "outputs": [],
   "source": [
    "#Enriching the movies dataset by adding the various genres columns.\n",
    "movies_with_genres = movie_list.copy()\n",
    "\n",
    "for genre in new_list :\n",
    "    movies_with_genres[genre] = movies_with_genres.apply(lambda _:int(genre in _.genres), axis = 1)"
   ]
  },
  {
   "cell_type": "code",
   "execution_count": 22,
   "metadata": {
    "colab": {
     "base_uri": "https://localhost:8080/",
     "height": 400
    },
    "id": "i9U69pYq8HAD",
    "outputId": "29a6807d-2588-44ec-dda7-f18694b2317b"
   },
   "outputs": [
    {
     "data": {
      "text/html": [
       "<div>\n",
       "<style scoped>\n",
       "    .dataframe tbody tr th:only-of-type {\n",
       "        vertical-align: middle;\n",
       "    }\n",
       "\n",
       "    .dataframe tbody tr th {\n",
       "        vertical-align: top;\n",
       "    }\n",
       "\n",
       "    .dataframe thead th {\n",
       "        text-align: right;\n",
       "    }\n",
       "</style>\n",
       "<table border=\"1\" class=\"dataframe\">\n",
       "  <thead>\n",
       "    <tr style=\"text-align: right;\">\n",
       "      <th></th>\n",
       "      <th>movieId</th>\n",
       "      <th>title</th>\n",
       "      <th>genres</th>\n",
       "      <th>Romance</th>\n",
       "      <th>Children</th>\n",
       "      <th>Film-Noir</th>\n",
       "      <th>Animation</th>\n",
       "      <th>Crime</th>\n",
       "      <th>Documentary</th>\n",
       "      <th>Western</th>\n",
       "      <th>...</th>\n",
       "      <th>Fantasy</th>\n",
       "      <th>Comedy</th>\n",
       "      <th>(no genres listed)</th>\n",
       "      <th>Mystery</th>\n",
       "      <th>Sci-Fi</th>\n",
       "      <th>Horror</th>\n",
       "      <th>Adventure</th>\n",
       "      <th>Musical</th>\n",
       "      <th>War</th>\n",
       "      <th>IMAX</th>\n",
       "    </tr>\n",
       "  </thead>\n",
       "  <tbody>\n",
       "    <tr>\n",
       "      <th>0</th>\n",
       "      <td>1</td>\n",
       "      <td>Toy Story (1995)</td>\n",
       "      <td>Adventure|Animation|Children|Comedy|Fantasy</td>\n",
       "      <td>0</td>\n",
       "      <td>1</td>\n",
       "      <td>0</td>\n",
       "      <td>1</td>\n",
       "      <td>0</td>\n",
       "      <td>0</td>\n",
       "      <td>0</td>\n",
       "      <td>...</td>\n",
       "      <td>1</td>\n",
       "      <td>1</td>\n",
       "      <td>0</td>\n",
       "      <td>0</td>\n",
       "      <td>0</td>\n",
       "      <td>0</td>\n",
       "      <td>1</td>\n",
       "      <td>0</td>\n",
       "      <td>0</td>\n",
       "      <td>0</td>\n",
       "    </tr>\n",
       "    <tr>\n",
       "      <th>1</th>\n",
       "      <td>2</td>\n",
       "      <td>Jumanji (1995)</td>\n",
       "      <td>Adventure|Children|Fantasy</td>\n",
       "      <td>0</td>\n",
       "      <td>1</td>\n",
       "      <td>0</td>\n",
       "      <td>0</td>\n",
       "      <td>0</td>\n",
       "      <td>0</td>\n",
       "      <td>0</td>\n",
       "      <td>...</td>\n",
       "      <td>1</td>\n",
       "      <td>0</td>\n",
       "      <td>0</td>\n",
       "      <td>0</td>\n",
       "      <td>0</td>\n",
       "      <td>0</td>\n",
       "      <td>1</td>\n",
       "      <td>0</td>\n",
       "      <td>0</td>\n",
       "      <td>0</td>\n",
       "    </tr>\n",
       "    <tr>\n",
       "      <th>2</th>\n",
       "      <td>3</td>\n",
       "      <td>Grumpier Old Men (1995)</td>\n",
       "      <td>Comedy|Romance</td>\n",
       "      <td>1</td>\n",
       "      <td>0</td>\n",
       "      <td>0</td>\n",
       "      <td>0</td>\n",
       "      <td>0</td>\n",
       "      <td>0</td>\n",
       "      <td>0</td>\n",
       "      <td>...</td>\n",
       "      <td>0</td>\n",
       "      <td>1</td>\n",
       "      <td>0</td>\n",
       "      <td>0</td>\n",
       "      <td>0</td>\n",
       "      <td>0</td>\n",
       "      <td>0</td>\n",
       "      <td>0</td>\n",
       "      <td>0</td>\n",
       "      <td>0</td>\n",
       "    </tr>\n",
       "    <tr>\n",
       "      <th>3</th>\n",
       "      <td>4</td>\n",
       "      <td>Waiting to Exhale (1995)</td>\n",
       "      <td>Comedy|Drama|Romance</td>\n",
       "      <td>1</td>\n",
       "      <td>0</td>\n",
       "      <td>0</td>\n",
       "      <td>0</td>\n",
       "      <td>0</td>\n",
       "      <td>0</td>\n",
       "      <td>0</td>\n",
       "      <td>...</td>\n",
       "      <td>0</td>\n",
       "      <td>1</td>\n",
       "      <td>0</td>\n",
       "      <td>0</td>\n",
       "      <td>0</td>\n",
       "      <td>0</td>\n",
       "      <td>0</td>\n",
       "      <td>0</td>\n",
       "      <td>0</td>\n",
       "      <td>0</td>\n",
       "    </tr>\n",
       "    <tr>\n",
       "      <th>4</th>\n",
       "      <td>5</td>\n",
       "      <td>Father of the Bride Part II (1995)</td>\n",
       "      <td>Comedy</td>\n",
       "      <td>0</td>\n",
       "      <td>0</td>\n",
       "      <td>0</td>\n",
       "      <td>0</td>\n",
       "      <td>0</td>\n",
       "      <td>0</td>\n",
       "      <td>0</td>\n",
       "      <td>...</td>\n",
       "      <td>0</td>\n",
       "      <td>1</td>\n",
       "      <td>0</td>\n",
       "      <td>0</td>\n",
       "      <td>0</td>\n",
       "      <td>0</td>\n",
       "      <td>0</td>\n",
       "      <td>0</td>\n",
       "      <td>0</td>\n",
       "      <td>0</td>\n",
       "    </tr>\n",
       "  </tbody>\n",
       "</table>\n",
       "<p>5 rows × 23 columns</p>\n",
       "</div>"
      ],
      "text/plain": [
       "   movieId                               title  \\\n",
       "0        1                    Toy Story (1995)   \n",
       "1        2                      Jumanji (1995)   \n",
       "2        3             Grumpier Old Men (1995)   \n",
       "3        4            Waiting to Exhale (1995)   \n",
       "4        5  Father of the Bride Part II (1995)   \n",
       "\n",
       "                                        genres  Romance  Children  Film-Noir  \\\n",
       "0  Adventure|Animation|Children|Comedy|Fantasy        0         1          0   \n",
       "1                   Adventure|Children|Fantasy        0         1          0   \n",
       "2                               Comedy|Romance        1         0          0   \n",
       "3                         Comedy|Drama|Romance        1         0          0   \n",
       "4                                       Comedy        0         0          0   \n",
       "\n",
       "   Animation  Crime  Documentary  Western  ...  Fantasy  Comedy  \\\n",
       "0          1      0            0        0  ...        1       1   \n",
       "1          0      0            0        0  ...        1       0   \n",
       "2          0      0            0        0  ...        0       1   \n",
       "3          0      0            0        0  ...        0       1   \n",
       "4          0      0            0        0  ...        0       1   \n",
       "\n",
       "   (no genres listed)  Mystery  Sci-Fi  Horror  Adventure  Musical  War  IMAX  \n",
       "0                   0        0       0       0          1        0    0     0  \n",
       "1                   0        0       0       0          1        0    0     0  \n",
       "2                   0        0       0       0          0        0    0     0  \n",
       "3                   0        0       0       0          0        0    0     0  \n",
       "4                   0        0       0       0          0        0    0     0  \n",
       "\n",
       "[5 rows x 23 columns]"
      ]
     },
     "execution_count": 22,
     "metadata": {},
     "output_type": "execute_result"
    }
   ],
   "source": [
    "movies_with_genres.head()"
   ]
  },
  {
   "cell_type": "code",
   "execution_count": 23,
   "metadata": {
    "colab": {
     "base_uri": "https://localhost:8080/",
     "height": 34
    },
    "id": "LaYzTYXl8HAF",
    "outputId": "df4c18e2-2dcc-4eb8-9859-d0abefbc634e"
   },
   "outputs": [
    {
     "name": "stdout",
     "output_type": "stream",
     "text": [
      "0.998\n"
     ]
    }
   ],
   "source": [
    "#Calculating the sparsity\n",
    "no_of_users = len(ratings['userId'].unique())\n",
    "no_of_movies = len(ratings['movieId'].unique())\n",
    "\n",
    "sparsity = round(1.0 - len(ratings)/(1.0*(no_of_movies*no_of_users)),3)\n",
    "print(sparsity)"
   ]
  },
  {
   "cell_type": "code",
   "execution_count": 24,
   "metadata": {
    "colab": {
     "base_uri": "https://localhost:8080/",
     "height": 34
    },
    "id": "x-irLs8e8HAK",
    "outputId": "35b7b0be-b4b6-4370-d54c-19f815d10363"
   },
   "outputs": [
    {
     "data": {
      "text/plain": [
       "45115"
      ]
     },
     "execution_count": 24,
     "metadata": {},
     "output_type": "execute_result"
    }
   ],
   "source": [
    "# Counting the number of unique movies in the dataset.\n",
    "len(ratings['movieId'].unique())"
   ]
  },
  {
   "cell_type": "code",
   "execution_count": 25,
   "metadata": {
    "id": "uvHpqosS8HAN"
   },
   "outputs": [],
   "source": [
    "# Finding the average rating for movie and the number of ratings for each movie\n",
    "avg_movie_rating = pd.DataFrame(ratings.groupby('movieId')['rating'].agg(['mean','count']))\n",
    "# avg_movie_rating['movieId']= avg_movie_rating.index"
   ]
  },
  {
   "cell_type": "code",
   "execution_count": 26,
   "metadata": {
    "colab": {
     "base_uri": "https://localhost:8080/",
     "height": 225
    },
    "id": "KWx3F2iz8HAQ",
    "outputId": "5aa2d02b-ff9b-40da-fb0f-f9ab6c499103"
   },
   "outputs": [
    {
     "data": {
      "text/html": [
       "<div>\n",
       "<style scoped>\n",
       "    .dataframe tbody tr th:only-of-type {\n",
       "        vertical-align: middle;\n",
       "    }\n",
       "\n",
       "    .dataframe tbody tr th {\n",
       "        vertical-align: top;\n",
       "    }\n",
       "\n",
       "    .dataframe thead th {\n",
       "        text-align: right;\n",
       "    }\n",
       "</style>\n",
       "<table border=\"1\" class=\"dataframe\">\n",
       "  <thead>\n",
       "    <tr style=\"text-align: right;\">\n",
       "      <th></th>\n",
       "      <th>mean</th>\n",
       "      <th>count</th>\n",
       "    </tr>\n",
       "    <tr>\n",
       "      <th>movieId</th>\n",
       "      <th></th>\n",
       "      <th></th>\n",
       "    </tr>\n",
       "  </thead>\n",
       "  <tbody>\n",
       "    <tr>\n",
       "      <th>1</th>\n",
       "      <td>3.888157</td>\n",
       "      <td>66008</td>\n",
       "    </tr>\n",
       "    <tr>\n",
       "      <th>2</th>\n",
       "      <td>3.236953</td>\n",
       "      <td>26060</td>\n",
       "    </tr>\n",
       "    <tr>\n",
       "      <th>3</th>\n",
       "      <td>3.175550</td>\n",
       "      <td>15497</td>\n",
       "    </tr>\n",
       "    <tr>\n",
       "      <th>4</th>\n",
       "      <td>2.875713</td>\n",
       "      <td>2981</td>\n",
       "    </tr>\n",
       "    <tr>\n",
       "      <th>5</th>\n",
       "      <td>3.079565</td>\n",
       "      <td>15258</td>\n",
       "    </tr>\n",
       "  </tbody>\n",
       "</table>\n",
       "</div>"
      ],
      "text/plain": [
       "             mean  count\n",
       "movieId                 \n",
       "1        3.888157  66008\n",
       "2        3.236953  26060\n",
       "3        3.175550  15497\n",
       "4        2.875713   2981\n",
       "5        3.079565  15258"
      ]
     },
     "execution_count": 26,
     "metadata": {},
     "output_type": "execute_result"
    }
   ],
   "source": [
    "# inspecting the average movie rating data frame\n",
    "avg_movie_rating.head()"
   ]
  },
  {
   "cell_type": "code",
   "execution_count": 27,
   "metadata": {
    "colab": {
     "base_uri": "https://localhost:8080/",
     "height": 34
    },
    "id": "XjZIzrBS8HAS",
    "outputId": "757634a8-08ca-4fa8-85cf-3a210ba02e0b"
   },
   "outputs": [
    {
     "data": {
      "text/plain": [
       "45115"
      ]
     },
     "execution_count": 27,
     "metadata": {},
     "output_type": "execute_result"
    }
   ],
   "source": [
    "len(avg_movie_rating)"
   ]
  },
  {
   "cell_type": "code",
   "execution_count": 28,
   "metadata": {
    "colab": {
     "base_uri": "https://localhost:8080/",
     "height": 34
    },
    "id": "IXy8Pte98HAV",
    "outputId": "dce4318a-a3bb-4136-87fb-4d2c6e674892"
   },
   "outputs": [
    {
     "data": {
      "text/plain": [
       "39.0"
      ]
     },
     "execution_count": 28,
     "metadata": {},
     "output_type": "execute_result"
    }
   ],
   "source": [
    "#calculate the percentile count. It gives the no of ratings at least 70% of the movies have\n",
    "np.percentile(avg_movie_rating['count'],70)"
   ]
  },
  {
   "cell_type": "code",
   "execution_count": 29,
   "metadata": {
    "colab": {
     "base_uri": "https://localhost:8080/",
     "height": 225
    },
    "id": "XpL7_M928HAX",
    "outputId": "8360a0e0-b657-4ea1-ecef-f5dce8ae1c81"
   },
   "outputs": [
    {
     "data": {
      "text/html": [
       "<div>\n",
       "<style scoped>\n",
       "    .dataframe tbody tr th:only-of-type {\n",
       "        vertical-align: middle;\n",
       "    }\n",
       "\n",
       "    .dataframe tbody tr th {\n",
       "        vertical-align: top;\n",
       "    }\n",
       "\n",
       "    .dataframe thead th {\n",
       "        text-align: right;\n",
       "    }\n",
       "</style>\n",
       "<table border=\"1\" class=\"dataframe\">\n",
       "  <thead>\n",
       "    <tr style=\"text-align: right;\">\n",
       "      <th></th>\n",
       "      <th>mean</th>\n",
       "      <th>count</th>\n",
       "    </tr>\n",
       "    <tr>\n",
       "      <th>movieId</th>\n",
       "      <th></th>\n",
       "      <th></th>\n",
       "    </tr>\n",
       "  </thead>\n",
       "  <tbody>\n",
       "    <tr>\n",
       "      <th>1</th>\n",
       "      <td>3.888157</td>\n",
       "      <td>66008</td>\n",
       "    </tr>\n",
       "    <tr>\n",
       "      <th>2</th>\n",
       "      <td>3.236953</td>\n",
       "      <td>26060</td>\n",
       "    </tr>\n",
       "    <tr>\n",
       "      <th>3</th>\n",
       "      <td>3.175550</td>\n",
       "      <td>15497</td>\n",
       "    </tr>\n",
       "    <tr>\n",
       "      <th>4</th>\n",
       "      <td>2.875713</td>\n",
       "      <td>2981</td>\n",
       "    </tr>\n",
       "    <tr>\n",
       "      <th>5</th>\n",
       "      <td>3.079565</td>\n",
       "      <td>15258</td>\n",
       "    </tr>\n",
       "  </tbody>\n",
       "</table>\n",
       "</div>"
      ],
      "text/plain": [
       "             mean  count\n",
       "movieId                 \n",
       "1        3.888157  66008\n",
       "2        3.236953  26060\n",
       "3        3.175550  15497\n",
       "4        2.875713   2981\n",
       "5        3.079565  15258"
      ]
     },
     "execution_count": 29,
     "metadata": {},
     "output_type": "execute_result"
    }
   ],
   "source": [
    "#Get the average movie rating across all movies \n",
    "avg_rating_all=ratings['rating'].mean()\n",
    "avg_rating_all\n",
    "#set a minimum threshold for number of reviews that the movie has to have\n",
    "min_reviews=30\n",
    "min_reviews\n",
    "movie_score = avg_movie_rating.loc[avg_movie_rating['count']>min_reviews]\n",
    "movie_score.head()"
   ]
  },
  {
   "cell_type": "code",
   "execution_count": 30,
   "metadata": {
    "colab": {
     "base_uri": "https://localhost:8080/",
     "height": 34
    },
    "id": "qleK5yxD8HAZ",
    "outputId": "e076b047-045c-462e-9294-e6996b5b4ea8"
   },
   "outputs": [
    {
     "data": {
      "text/plain": [
       "14587"
      ]
     },
     "execution_count": 30,
     "metadata": {},
     "output_type": "execute_result"
    }
   ],
   "source": [
    "len(movie_score)"
   ]
  },
  {
   "cell_type": "code",
   "execution_count": 31,
   "metadata": {
    "id": "vNnLJ1nz8HAc"
   },
   "outputs": [],
   "source": [
    "#create a function for weighted rating score based off count of reviews\n",
    "def weighted_rating(x, m=min_reviews, C=avg_rating_all):\n",
    "    v = x['count']\n",
    "    R = x['mean']\n",
    "    # Calculation based on the IMDB formula\n",
    "    return (v/(v+m) * R) + (m/(m+v) * C)"
   ]
  },
  {
   "cell_type": "code",
   "execution_count": 32,
   "metadata": {
    "colab": {
     "base_uri": "https://localhost:8080/",
     "height": 326
    },
    "id": "1olmsLw_8HAf",
    "outputId": "221a93e4-672e-4c8e-fe19-92a0f7d02e48"
   },
   "outputs": [
    {
     "name": "stderr",
     "output_type": "stream",
     "text": [
      "C:\\Users\\kavita\\AppData\\Local\\Temp\\ipykernel_48252\\3455039159.py:2: SettingWithCopyWarning: \n",
      "A value is trying to be set on a copy of a slice from a DataFrame.\n",
      "Try using .loc[row_indexer,col_indexer] = value instead\n",
      "\n",
      "See the caveats in the documentation: https://pandas.pydata.org/pandas-docs/stable/user_guide/indexing.html#returning-a-view-versus-a-copy\n",
      "  movie_score['weighted_score'] = movie_score.apply(weighted_rating, axis=1)\n"
     ]
    },
    {
     "data": {
      "text/html": [
       "<div>\n",
       "<style scoped>\n",
       "    .dataframe tbody tr th:only-of-type {\n",
       "        vertical-align: middle;\n",
       "    }\n",
       "\n",
       "    .dataframe tbody tr th {\n",
       "        vertical-align: top;\n",
       "    }\n",
       "\n",
       "    .dataframe thead th {\n",
       "        text-align: right;\n",
       "    }\n",
       "</style>\n",
       "<table border=\"1\" class=\"dataframe\">\n",
       "  <thead>\n",
       "    <tr style=\"text-align: right;\">\n",
       "      <th></th>\n",
       "      <th>mean</th>\n",
       "      <th>count</th>\n",
       "      <th>weighted_score</th>\n",
       "    </tr>\n",
       "    <tr>\n",
       "      <th>movieId</th>\n",
       "      <th></th>\n",
       "      <th></th>\n",
       "      <th></th>\n",
       "    </tr>\n",
       "  </thead>\n",
       "  <tbody>\n",
       "    <tr>\n",
       "      <th>1</th>\n",
       "      <td>3.888157</td>\n",
       "      <td>66008</td>\n",
       "      <td>3.887994</td>\n",
       "    </tr>\n",
       "    <tr>\n",
       "      <th>2</th>\n",
       "      <td>3.236953</td>\n",
       "      <td>26060</td>\n",
       "      <td>3.237288</td>\n",
       "    </tr>\n",
       "    <tr>\n",
       "      <th>3</th>\n",
       "      <td>3.175550</td>\n",
       "      <td>15497</td>\n",
       "      <td>3.176231</td>\n",
       "    </tr>\n",
       "    <tr>\n",
       "      <th>4</th>\n",
       "      <td>2.875713</td>\n",
       "      <td>2981</td>\n",
       "      <td>2.882213</td>\n",
       "    </tr>\n",
       "    <tr>\n",
       "      <th>5</th>\n",
       "      <td>3.079565</td>\n",
       "      <td>15258</td>\n",
       "      <td>3.080445</td>\n",
       "    </tr>\n",
       "  </tbody>\n",
       "</table>\n",
       "</div>"
      ],
      "text/plain": [
       "             mean  count  weighted_score\n",
       "movieId                                 \n",
       "1        3.888157  66008        3.887994\n",
       "2        3.236953  26060        3.237288\n",
       "3        3.175550  15497        3.176231\n",
       "4        2.875713   2981        2.882213\n",
       "5        3.079565  15258        3.080445"
      ]
     },
     "execution_count": 32,
     "metadata": {},
     "output_type": "execute_result"
    }
   ],
   "source": [
    "#Calculating the weighted score for each movie\n",
    "movie_score['weighted_score'] = movie_score.apply(weighted_rating, axis=1)\n",
    "movie_score.head()"
   ]
  },
  {
   "cell_type": "code",
   "execution_count": 33,
   "metadata": {
    "colab": {
     "base_uri": "https://localhost:8080/",
     "height": 400
    },
    "id": "y2lz9rsX8HAh",
    "outputId": "5fb15b52-4e50-47b9-9c03-f130761ebc70"
   },
   "outputs": [
    {
     "data": {
      "text/html": [
       "<div>\n",
       "<style scoped>\n",
       "    .dataframe tbody tr th:only-of-type {\n",
       "        vertical-align: middle;\n",
       "    }\n",
       "\n",
       "    .dataframe tbody tr th {\n",
       "        vertical-align: top;\n",
       "    }\n",
       "\n",
       "    .dataframe thead th {\n",
       "        text-align: right;\n",
       "    }\n",
       "</style>\n",
       "<table border=\"1\" class=\"dataframe\">\n",
       "  <thead>\n",
       "    <tr style=\"text-align: right;\">\n",
       "      <th></th>\n",
       "      <th>movieId</th>\n",
       "      <th>mean</th>\n",
       "      <th>count</th>\n",
       "      <th>weighted_score</th>\n",
       "      <th>title</th>\n",
       "      <th>genres</th>\n",
       "      <th>Romance</th>\n",
       "      <th>Children</th>\n",
       "      <th>Film-Noir</th>\n",
       "      <th>Animation</th>\n",
       "      <th>...</th>\n",
       "      <th>Fantasy</th>\n",
       "      <th>Comedy</th>\n",
       "      <th>(no genres listed)</th>\n",
       "      <th>Mystery</th>\n",
       "      <th>Sci-Fi</th>\n",
       "      <th>Horror</th>\n",
       "      <th>Adventure</th>\n",
       "      <th>Musical</th>\n",
       "      <th>War</th>\n",
       "      <th>IMAX</th>\n",
       "    </tr>\n",
       "  </thead>\n",
       "  <tbody>\n",
       "    <tr>\n",
       "      <th>0</th>\n",
       "      <td>1</td>\n",
       "      <td>3.888157</td>\n",
       "      <td>66008</td>\n",
       "      <td>3.887994</td>\n",
       "      <td>Toy Story (1995)</td>\n",
       "      <td>Adventure|Animation|Children|Comedy|Fantasy</td>\n",
       "      <td>0</td>\n",
       "      <td>1</td>\n",
       "      <td>0</td>\n",
       "      <td>1</td>\n",
       "      <td>...</td>\n",
       "      <td>1</td>\n",
       "      <td>1</td>\n",
       "      <td>0</td>\n",
       "      <td>0</td>\n",
       "      <td>0</td>\n",
       "      <td>0</td>\n",
       "      <td>1</td>\n",
       "      <td>0</td>\n",
       "      <td>0</td>\n",
       "      <td>0</td>\n",
       "    </tr>\n",
       "    <tr>\n",
       "      <th>1</th>\n",
       "      <td>2</td>\n",
       "      <td>3.236953</td>\n",
       "      <td>26060</td>\n",
       "      <td>3.237288</td>\n",
       "      <td>Jumanji (1995)</td>\n",
       "      <td>Adventure|Children|Fantasy</td>\n",
       "      <td>0</td>\n",
       "      <td>1</td>\n",
       "      <td>0</td>\n",
       "      <td>0</td>\n",
       "      <td>...</td>\n",
       "      <td>1</td>\n",
       "      <td>0</td>\n",
       "      <td>0</td>\n",
       "      <td>0</td>\n",
       "      <td>0</td>\n",
       "      <td>0</td>\n",
       "      <td>1</td>\n",
       "      <td>0</td>\n",
       "      <td>0</td>\n",
       "      <td>0</td>\n",
       "    </tr>\n",
       "    <tr>\n",
       "      <th>2</th>\n",
       "      <td>3</td>\n",
       "      <td>3.175550</td>\n",
       "      <td>15497</td>\n",
       "      <td>3.176231</td>\n",
       "      <td>Grumpier Old Men (1995)</td>\n",
       "      <td>Comedy|Romance</td>\n",
       "      <td>1</td>\n",
       "      <td>0</td>\n",
       "      <td>0</td>\n",
       "      <td>0</td>\n",
       "      <td>...</td>\n",
       "      <td>0</td>\n",
       "      <td>1</td>\n",
       "      <td>0</td>\n",
       "      <td>0</td>\n",
       "      <td>0</td>\n",
       "      <td>0</td>\n",
       "      <td>0</td>\n",
       "      <td>0</td>\n",
       "      <td>0</td>\n",
       "      <td>0</td>\n",
       "    </tr>\n",
       "    <tr>\n",
       "      <th>3</th>\n",
       "      <td>4</td>\n",
       "      <td>2.875713</td>\n",
       "      <td>2981</td>\n",
       "      <td>2.882213</td>\n",
       "      <td>Waiting to Exhale (1995)</td>\n",
       "      <td>Comedy|Drama|Romance</td>\n",
       "      <td>1</td>\n",
       "      <td>0</td>\n",
       "      <td>0</td>\n",
       "      <td>0</td>\n",
       "      <td>...</td>\n",
       "      <td>0</td>\n",
       "      <td>1</td>\n",
       "      <td>0</td>\n",
       "      <td>0</td>\n",
       "      <td>0</td>\n",
       "      <td>0</td>\n",
       "      <td>0</td>\n",
       "      <td>0</td>\n",
       "      <td>0</td>\n",
       "      <td>0</td>\n",
       "    </tr>\n",
       "    <tr>\n",
       "      <th>4</th>\n",
       "      <td>5</td>\n",
       "      <td>3.079565</td>\n",
       "      <td>15258</td>\n",
       "      <td>3.080445</td>\n",
       "      <td>Father of the Bride Part II (1995)</td>\n",
       "      <td>Comedy</td>\n",
       "      <td>0</td>\n",
       "      <td>0</td>\n",
       "      <td>0</td>\n",
       "      <td>0</td>\n",
       "      <td>...</td>\n",
       "      <td>0</td>\n",
       "      <td>1</td>\n",
       "      <td>0</td>\n",
       "      <td>0</td>\n",
       "      <td>0</td>\n",
       "      <td>0</td>\n",
       "      <td>0</td>\n",
       "      <td>0</td>\n",
       "      <td>0</td>\n",
       "      <td>0</td>\n",
       "    </tr>\n",
       "  </tbody>\n",
       "</table>\n",
       "<p>5 rows × 26 columns</p>\n",
       "</div>"
      ],
      "text/plain": [
       "   movieId      mean  count  weighted_score  \\\n",
       "0        1  3.888157  66008        3.887994   \n",
       "1        2  3.236953  26060        3.237288   \n",
       "2        3  3.175550  15497        3.176231   \n",
       "3        4  2.875713   2981        2.882213   \n",
       "4        5  3.079565  15258        3.080445   \n",
       "\n",
       "                                title  \\\n",
       "0                    Toy Story (1995)   \n",
       "1                      Jumanji (1995)   \n",
       "2             Grumpier Old Men (1995)   \n",
       "3            Waiting to Exhale (1995)   \n",
       "4  Father of the Bride Part II (1995)   \n",
       "\n",
       "                                        genres  Romance  Children  Film-Noir  \\\n",
       "0  Adventure|Animation|Children|Comedy|Fantasy        0         1          0   \n",
       "1                   Adventure|Children|Fantasy        0         1          0   \n",
       "2                               Comedy|Romance        1         0          0   \n",
       "3                         Comedy|Drama|Romance        1         0          0   \n",
       "4                                       Comedy        0         0          0   \n",
       "\n",
       "   Animation  ...  Fantasy  Comedy  (no genres listed)  Mystery  Sci-Fi  \\\n",
       "0          1  ...        1       1                   0        0       0   \n",
       "1          0  ...        1       0                   0        0       0   \n",
       "2          0  ...        0       1                   0        0       0   \n",
       "3          0  ...        0       1                   0        0       0   \n",
       "4          0  ...        0       1                   0        0       0   \n",
       "\n",
       "   Horror  Adventure  Musical  War  IMAX  \n",
       "0       0          1        0    0     0  \n",
       "1       0          1        0    0     0  \n",
       "2       0          0        0    0     0  \n",
       "3       0          0        0    0     0  \n",
       "4       0          0        0    0     0  \n",
       "\n",
       "[5 rows x 26 columns]"
      ]
     },
     "execution_count": 33,
     "metadata": {},
     "output_type": "execute_result"
    }
   ],
   "source": [
    "#join movie details to movie ratings\n",
    "movies_with_genres.index.name = None#.drop(columns=[])#, axis = 1)\n",
    "movies_with_genres = movies_with_genres.rename_axis(None) \n",
    "movie_score = pd.merge(movie_score,movies_with_genres,on='movieId')\n",
    "#movie_score = movie_score.index.name = NULL\n",
    "#join movie links to movie ratings\n",
    "#movie_score = pd.merge(movie_score,links,on='movieId')\n",
    "movie_score.head()"
   ]
  },
  {
   "cell_type": "code",
   "execution_count": 34,
   "metadata": {
    "colab": {
     "base_uri": "https://localhost:8080/",
     "height": 343
    },
    "id": "1wwgDZyz8HAk",
    "outputId": "4407d681-c5ac-4e57-d383-43f7d94e58fa"
   },
   "outputs": [
    {
     "data": {
      "text/html": [
       "<div>\n",
       "<style scoped>\n",
       "    .dataframe tbody tr th:only-of-type {\n",
       "        vertical-align: middle;\n",
       "    }\n",
       "\n",
       "    .dataframe tbody tr th {\n",
       "        vertical-align: top;\n",
       "    }\n",
       "\n",
       "    .dataframe thead th {\n",
       "        text-align: right;\n",
       "    }\n",
       "</style>\n",
       "<table border=\"1\" class=\"dataframe\">\n",
       "  <thead>\n",
       "    <tr style=\"text-align: right;\">\n",
       "      <th></th>\n",
       "      <th>title</th>\n",
       "      <th>count</th>\n",
       "      <th>mean</th>\n",
       "      <th>weighted_score</th>\n",
       "      <th>genres</th>\n",
       "    </tr>\n",
       "  </thead>\n",
       "  <tbody>\n",
       "    <tr>\n",
       "      <th>8715</th>\n",
       "      <td>Planet Earth (2006)</td>\n",
       "      <td>754</td>\n",
       "      <td>4.478780</td>\n",
       "      <td>4.442401</td>\n",
       "      <td>Documentary</td>\n",
       "    </tr>\n",
       "    <tr>\n",
       "      <th>277</th>\n",
       "      <td>Shawshank Redemption, The (1994)</td>\n",
       "      <td>91082</td>\n",
       "      <td>4.429015</td>\n",
       "      <td>4.428718</td>\n",
       "      <td>Crime|Drama</td>\n",
       "    </tr>\n",
       "    <tr>\n",
       "      <th>659</th>\n",
       "      <td>Godfather, The (1972)</td>\n",
       "      <td>57070</td>\n",
       "      <td>4.339811</td>\n",
       "      <td>4.339384</td>\n",
       "      <td>Crime|Drama</td>\n",
       "    </tr>\n",
       "    <tr>\n",
       "      <th>8825</th>\n",
       "      <td>Band of Brothers (2001)</td>\n",
       "      <td>284</td>\n",
       "      <td>4.394366</td>\n",
       "      <td>4.311601</td>\n",
       "      <td>Action|Drama|War</td>\n",
       "    </tr>\n",
       "    <tr>\n",
       "      <th>46</th>\n",
       "      <td>Usual Suspects, The (1995)</td>\n",
       "      <td>59271</td>\n",
       "      <td>4.300189</td>\n",
       "      <td>4.299798</td>\n",
       "      <td>Crime|Mystery|Thriller</td>\n",
       "    </tr>\n",
       "    <tr>\n",
       "      <th>461</th>\n",
       "      <td>Schindler's List (1993)</td>\n",
       "      <td>67662</td>\n",
       "      <td>4.266531</td>\n",
       "      <td>4.266203</td>\n",
       "      <td>Drama|War</td>\n",
       "    </tr>\n",
       "    <tr>\n",
       "      <th>922</th>\n",
       "      <td>Godfather: Part II, The (1974)</td>\n",
       "      <td>36679</td>\n",
       "      <td>4.263475</td>\n",
       "      <td>4.262874</td>\n",
       "      <td>Crime|Drama</td>\n",
       "    </tr>\n",
       "    <tr>\n",
       "      <th>1494</th>\n",
       "      <td>Seven Samurai (Shichinin no samurai) (1954)</td>\n",
       "      <td>13994</td>\n",
       "      <td>4.255074</td>\n",
       "      <td>4.253518</td>\n",
       "      <td>Action|Adventure|Drama</td>\n",
       "    </tr>\n",
       "    <tr>\n",
       "      <th>686</th>\n",
       "      <td>Rear Window (1954)</td>\n",
       "      <td>21335</td>\n",
       "      <td>4.232552</td>\n",
       "      <td>4.231563</td>\n",
       "      <td>Mystery|Thriller</td>\n",
       "    </tr>\n",
       "    <tr>\n",
       "      <th>2226</th>\n",
       "      <td>Fight Club (1999)</td>\n",
       "      <td>60024</td>\n",
       "      <td>4.230716</td>\n",
       "      <td>4.230365</td>\n",
       "      <td>Action|Crime|Drama|Thriller</td>\n",
       "    </tr>\n",
       "  </tbody>\n",
       "</table>\n",
       "</div>"
      ],
      "text/plain": [
       "                                            title  count      mean  \\\n",
       "8715                          Planet Earth (2006)    754  4.478780   \n",
       "277              Shawshank Redemption, The (1994)  91082  4.429015   \n",
       "659                         Godfather, The (1972)  57070  4.339811   \n",
       "8825                      Band of Brothers (2001)    284  4.394366   \n",
       "46                     Usual Suspects, The (1995)  59271  4.300189   \n",
       "461                       Schindler's List (1993)  67662  4.266531   \n",
       "922                Godfather: Part II, The (1974)  36679  4.263475   \n",
       "1494  Seven Samurai (Shichinin no samurai) (1954)  13994  4.255074   \n",
       "686                            Rear Window (1954)  21335  4.232552   \n",
       "2226                            Fight Club (1999)  60024  4.230716   \n",
       "\n",
       "      weighted_score                       genres  \n",
       "8715        4.442401                  Documentary  \n",
       "277         4.428718                  Crime|Drama  \n",
       "659         4.339384                  Crime|Drama  \n",
       "8825        4.311601             Action|Drama|War  \n",
       "46          4.299798       Crime|Mystery|Thriller  \n",
       "461         4.266203                    Drama|War  \n",
       "922         4.262874                  Crime|Drama  \n",
       "1494        4.253518       Action|Adventure|Drama  \n",
       "686         4.231563             Mystery|Thriller  \n",
       "2226        4.230365  Action|Crime|Drama|Thriller  "
      ]
     },
     "execution_count": 34,
     "metadata": {},
     "output_type": "execute_result"
    }
   ],
   "source": [
    "#list top scored movies over the whole range of movies\n",
    "pd.DataFrame(movie_score.sort_values(['weighted_score'],ascending=False)[['title','count','mean','weighted_score','genres']][:10])"
   ]
  },
  {
   "cell_type": "code",
   "execution_count": 35,
   "metadata": {
    "id": "nO9CfPQs8HAm"
   },
   "outputs": [],
   "source": [
    "# Gives the best movies according to genre based on weighted score which is calculated using IMDB formula\n",
    "def best_movies_by_genre(genre,top_n):\n",
    "    return pd.DataFrame(movie_score.loc[(movie_score[genre]==1)].sort_values(['weighted_score'],ascending=False)[['title','count','mean','weighted_score']][:top_n])"
   ]
  },
  {
   "cell_type": "code",
   "execution_count": 36,
   "metadata": {
    "colab": {
     "base_uri": "https://localhost:8080/",
     "height": 343
    },
    "id": "BbY7XdaF8HAp",
    "outputId": "0927b034-744e-42c8-a457-01b7c0f2fd0d"
   },
   "outputs": [
    {
     "data": {
      "text/html": [
       "<div>\n",
       "<style scoped>\n",
       "    .dataframe tbody tr th:only-of-type {\n",
       "        vertical-align: middle;\n",
       "    }\n",
       "\n",
       "    .dataframe tbody tr th {\n",
       "        vertical-align: top;\n",
       "    }\n",
       "\n",
       "    .dataframe thead th {\n",
       "        text-align: right;\n",
       "    }\n",
       "</style>\n",
       "<table border=\"1\" class=\"dataframe\">\n",
       "  <thead>\n",
       "    <tr style=\"text-align: right;\">\n",
       "      <th></th>\n",
       "      <th>title</th>\n",
       "      <th>count</th>\n",
       "      <th>mean</th>\n",
       "      <th>weighted_score</th>\n",
       "    </tr>\n",
       "  </thead>\n",
       "  <tbody>\n",
       "    <tr>\n",
       "      <th>2146</th>\n",
       "      <td>Stop Making Sense (1984)</td>\n",
       "      <td>2406</td>\n",
       "      <td>4.099127</td>\n",
       "      <td>4.092095</td>\n",
       "    </tr>\n",
       "    <tr>\n",
       "      <th>955</th>\n",
       "      <td>Duck Soup (1933)</td>\n",
       "      <td>6196</td>\n",
       "      <td>4.087234</td>\n",
       "      <td>4.084539</td>\n",
       "    </tr>\n",
       "    <tr>\n",
       "      <th>725</th>\n",
       "      <td>Top Hat (1935)</td>\n",
       "      <td>2250</td>\n",
       "      <td>4.042889</td>\n",
       "      <td>4.036115</td>\n",
       "    </tr>\n",
       "    <tr>\n",
       "      <th>681</th>\n",
       "      <td>Singin' in the Rain (1952)</td>\n",
       "      <td>12416</td>\n",
       "      <td>4.027585</td>\n",
       "      <td>4.026381</td>\n",
       "    </tr>\n",
       "    <tr>\n",
       "      <th>4769</th>\n",
       "      <td>Night at the Opera, A (1935)</td>\n",
       "      <td>1790</td>\n",
       "      <td>4.006704</td>\n",
       "      <td>3.998815</td>\n",
       "    </tr>\n",
       "    <tr>\n",
       "      <th>813</th>\n",
       "      <td>Shall We Dance (1937)</td>\n",
       "      <td>1500</td>\n",
       "      <td>3.967333</td>\n",
       "      <td>3.958721</td>\n",
       "    </tr>\n",
       "    <tr>\n",
       "      <th>6857</th>\n",
       "      <td>Dr. Horrible's Sing-Along Blog (2008)</td>\n",
       "      <td>4529</td>\n",
       "      <td>3.960698</td>\n",
       "      <td>3.957851</td>\n",
       "    </tr>\n",
       "    <tr>\n",
       "      <th>701</th>\n",
       "      <td>Wizard of Oz, The (1939)</td>\n",
       "      <td>26547</td>\n",
       "      <td>3.953931</td>\n",
       "      <td>3.953450</td>\n",
       "    </tr>\n",
       "    <tr>\n",
       "      <th>2011</th>\n",
       "      <td>Buena Vista Social Club (1999)</td>\n",
       "      <td>3007</td>\n",
       "      <td>3.954440</td>\n",
       "      <td>3.950228</td>\n",
       "    </tr>\n",
       "    <tr>\n",
       "      <th>5199</th>\n",
       "      <td>Day at the Races, A (1937)</td>\n",
       "      <td>985</td>\n",
       "      <td>3.962437</td>\n",
       "      <td>3.949599</td>\n",
       "    </tr>\n",
       "  </tbody>\n",
       "</table>\n",
       "</div>"
      ],
      "text/plain": [
       "                                      title  count      mean  weighted_score\n",
       "2146               Stop Making Sense (1984)   2406  4.099127        4.092095\n",
       "955                        Duck Soup (1933)   6196  4.087234        4.084539\n",
       "725                          Top Hat (1935)   2250  4.042889        4.036115\n",
       "681              Singin' in the Rain (1952)  12416  4.027585        4.026381\n",
       "4769           Night at the Opera, A (1935)   1790  4.006704        3.998815\n",
       "813                   Shall We Dance (1937)   1500  3.967333        3.958721\n",
       "6857  Dr. Horrible's Sing-Along Blog (2008)   4529  3.960698        3.957851\n",
       "701                Wizard of Oz, The (1939)  26547  3.953931        3.953450\n",
       "2011         Buena Vista Social Club (1999)   3007  3.954440        3.950228\n",
       "5199             Day at the Races, A (1937)    985  3.962437        3.949599"
      ]
     },
     "execution_count": 36,
     "metadata": {},
     "output_type": "execute_result"
    }
   ],
   "source": [
    "#run function to return top recommended movies by genre\n",
    "best_movies_by_genre('Musical',10)  "
   ]
  },
  {
   "cell_type": "code",
   "execution_count": 37,
   "metadata": {
    "colab": {
     "base_uri": "https://localhost:8080/",
     "height": 343
    },
    "id": "FESM5zvB8HAr",
    "outputId": "2fbc544c-935c-4c34-8af3-67791f38464a"
   },
   "outputs": [
    {
     "data": {
      "text/html": [
       "<div>\n",
       "<style scoped>\n",
       "    .dataframe tbody tr th:only-of-type {\n",
       "        vertical-align: middle;\n",
       "    }\n",
       "\n",
       "    .dataframe tbody tr th {\n",
       "        vertical-align: top;\n",
       "    }\n",
       "\n",
       "    .dataframe thead th {\n",
       "        text-align: right;\n",
       "    }\n",
       "</style>\n",
       "<table border=\"1\" class=\"dataframe\">\n",
       "  <thead>\n",
       "    <tr style=\"text-align: right;\">\n",
       "      <th></th>\n",
       "      <th>title</th>\n",
       "      <th>count</th>\n",
       "      <th>mean</th>\n",
       "      <th>weighted_score</th>\n",
       "    </tr>\n",
       "  </thead>\n",
       "  <tbody>\n",
       "    <tr>\n",
       "      <th>8825</th>\n",
       "      <td>Band of Brothers (2001)</td>\n",
       "      <td>284</td>\n",
       "      <td>4.394366</td>\n",
       "      <td>4.311601</td>\n",
       "    </tr>\n",
       "    <tr>\n",
       "      <th>1494</th>\n",
       "      <td>Seven Samurai (Shichinin no samurai) (1954)</td>\n",
       "      <td>13994</td>\n",
       "      <td>4.255074</td>\n",
       "      <td>4.253518</td>\n",
       "    </tr>\n",
       "    <tr>\n",
       "      <th>2226</th>\n",
       "      <td>Fight Club (1999)</td>\n",
       "      <td>60024</td>\n",
       "      <td>4.230716</td>\n",
       "      <td>4.230365</td>\n",
       "    </tr>\n",
       "    <tr>\n",
       "      <th>690</th>\n",
       "      <td>North by Northwest (1959)</td>\n",
       "      <td>19013</td>\n",
       "      <td>4.205228</td>\n",
       "      <td>4.204161</td>\n",
       "    </tr>\n",
       "    <tr>\n",
       "      <th>4166</th>\n",
       "      <td>City of God (Cidade de Deus) (2002)</td>\n",
       "      <td>19947</td>\n",
       "      <td>4.187873</td>\n",
       "      <td>4.186882</td>\n",
       "    </tr>\n",
       "    <tr>\n",
       "      <th>6594</th>\n",
       "      <td>Dark Knight, The (2008)</td>\n",
       "      <td>39600</td>\n",
       "      <td>4.182071</td>\n",
       "      <td>4.181576</td>\n",
       "    </tr>\n",
       "    <tr>\n",
       "      <th>2283</th>\n",
       "      <td>Yojimbo (1961)</td>\n",
       "      <td>4155</td>\n",
       "      <td>4.180265</td>\n",
       "      <td>4.175590</td>\n",
       "    </tr>\n",
       "    <tr>\n",
       "      <th>7208</th>\n",
       "      <td>Inception (2010)</td>\n",
       "      <td>35297</td>\n",
       "      <td>4.161756</td>\n",
       "      <td>4.161218</td>\n",
       "    </tr>\n",
       "    <tr>\n",
       "      <th>1939</th>\n",
       "      <td>Matrix, The (1999)</td>\n",
       "      <td>77960</td>\n",
       "      <td>4.154098</td>\n",
       "      <td>4.153857</td>\n",
       "    </tr>\n",
       "    <tr>\n",
       "      <th>898</th>\n",
       "      <td>Star Wars: Episode V - The Empire Strikes Back...</td>\n",
       "      <td>61672</td>\n",
       "      <td>4.142536</td>\n",
       "      <td>4.142238</td>\n",
       "    </tr>\n",
       "  </tbody>\n",
       "</table>\n",
       "</div>"
      ],
      "text/plain": [
       "                                                  title  count      mean  \\\n",
       "8825                            Band of Brothers (2001)    284  4.394366   \n",
       "1494        Seven Samurai (Shichinin no samurai) (1954)  13994  4.255074   \n",
       "2226                                  Fight Club (1999)  60024  4.230716   \n",
       "690                           North by Northwest (1959)  19013  4.205228   \n",
       "4166                City of God (Cidade de Deus) (2002)  19947  4.187873   \n",
       "6594                            Dark Knight, The (2008)  39600  4.182071   \n",
       "2283                                     Yojimbo (1961)   4155  4.180265   \n",
       "7208                                   Inception (2010)  35297  4.161756   \n",
       "1939                                 Matrix, The (1999)  77960  4.154098   \n",
       "898   Star Wars: Episode V - The Empire Strikes Back...  61672  4.142536   \n",
       "\n",
       "      weighted_score  \n",
       "8825        4.311601  \n",
       "1494        4.253518  \n",
       "2226        4.230365  \n",
       "690         4.204161  \n",
       "4166        4.186882  \n",
       "6594        4.181576  \n",
       "2283        4.175590  \n",
       "7208        4.161218  \n",
       "1939        4.153857  \n",
       "898         4.142238  "
      ]
     },
     "execution_count": 37,
     "metadata": {},
     "output_type": "execute_result"
    }
   ],
   "source": [
    "#run function to return top recommended movies by genre\n",
    "best_movies_by_genre('Action',10)  "
   ]
  },
  {
   "cell_type": "code",
   "execution_count": 38,
   "metadata": {
    "colab": {
     "base_uri": "https://localhost:8080/",
     "height": 343
    },
    "id": "gmhCll7X8HAt",
    "outputId": "965f0e5b-8a00-4ec5-eb62-a6820a06f352"
   },
   "outputs": [
    {
     "data": {
      "text/html": [
       "<div>\n",
       "<style scoped>\n",
       "    .dataframe tbody tr th:only-of-type {\n",
       "        vertical-align: middle;\n",
       "    }\n",
       "\n",
       "    .dataframe tbody tr th {\n",
       "        vertical-align: top;\n",
       "    }\n",
       "\n",
       "    .dataframe thead th {\n",
       "        text-align: right;\n",
       "    }\n",
       "</style>\n",
       "<table border=\"1\" class=\"dataframe\">\n",
       "  <thead>\n",
       "    <tr style=\"text-align: right;\">\n",
       "      <th></th>\n",
       "      <th>title</th>\n",
       "      <th>count</th>\n",
       "      <th>mean</th>\n",
       "      <th>weighted_score</th>\n",
       "    </tr>\n",
       "  </thead>\n",
       "  <tbody>\n",
       "    <tr>\n",
       "      <th>4141</th>\n",
       "      <td>My Neighbor Totoro (Tonari no Totoro) (1988)</td>\n",
       "      <td>8875</td>\n",
       "      <td>4.148732</td>\n",
       "      <td>4.146642</td>\n",
       "    </tr>\n",
       "    <tr>\n",
       "      <th>868</th>\n",
       "      <td>Wallace &amp; Gromit: The Wrong Trousers (1993)</td>\n",
       "      <td>16993</td>\n",
       "      <td>4.134644</td>\n",
       "      <td>4.133575</td>\n",
       "    </tr>\n",
       "    <tr>\n",
       "      <th>599</th>\n",
       "      <td>Wallace &amp; Gromit: A Close Shave (1995)</td>\n",
       "      <td>13649</td>\n",
       "      <td>4.112609</td>\n",
       "      <td>4.111327</td>\n",
       "    </tr>\n",
       "    <tr>\n",
       "      <th>4336</th>\n",
       "      <td>Laputa: Castle in the Sky (Tenkû no shiro Rapy...</td>\n",
       "      <td>5214</td>\n",
       "      <td>4.056674</td>\n",
       "      <td>4.053650</td>\n",
       "    </tr>\n",
       "    <tr>\n",
       "      <th>733</th>\n",
       "      <td>It's a Wonderful Life (1946)</td>\n",
       "      <td>17260</td>\n",
       "      <td>4.016309</td>\n",
       "      <td>4.015462</td>\n",
       "    </tr>\n",
       "    <tr>\n",
       "      <th>6651</th>\n",
       "      <td>WALL·E (2008)</td>\n",
       "      <td>24538</td>\n",
       "      <td>4.008884</td>\n",
       "      <td>4.008297</td>\n",
       "    </tr>\n",
       "    <tr>\n",
       "      <th>924</th>\n",
       "      <td>Grand Day Out with Wallace and Gromit, A (1989)</td>\n",
       "      <td>9076</td>\n",
       "      <td>4.005674</td>\n",
       "      <td>4.004101</td>\n",
       "    </tr>\n",
       "    <tr>\n",
       "      <th>2110</th>\n",
       "      <td>Christmas Story, A (1983)</td>\n",
       "      <td>14506</td>\n",
       "      <td>3.993865</td>\n",
       "      <td>3.992903</td>\n",
       "    </tr>\n",
       "    <tr>\n",
       "      <th>5502</th>\n",
       "      <td>Kiki's Delivery Service (Majo no takkyûbin) (1...</td>\n",
       "      <td>4017</td>\n",
       "      <td>3.987055</td>\n",
       "      <td>3.983653</td>\n",
       "    </tr>\n",
       "    <tr>\n",
       "      <th>6908</th>\n",
       "      <td>Up (2009)</td>\n",
       "      <td>22460</td>\n",
       "      <td>3.978629</td>\n",
       "      <td>3.978028</td>\n",
       "    </tr>\n",
       "  </tbody>\n",
       "</table>\n",
       "</div>"
      ],
      "text/plain": [
       "                                                  title  count      mean  \\\n",
       "4141       My Neighbor Totoro (Tonari no Totoro) (1988)   8875  4.148732   \n",
       "868         Wallace & Gromit: The Wrong Trousers (1993)  16993  4.134644   \n",
       "599              Wallace & Gromit: A Close Shave (1995)  13649  4.112609   \n",
       "4336  Laputa: Castle in the Sky (Tenkû no shiro Rapy...   5214  4.056674   \n",
       "733                        It's a Wonderful Life (1946)  17260  4.016309   \n",
       "6651                                      WALL·E (2008)  24538  4.008884   \n",
       "924     Grand Day Out with Wallace and Gromit, A (1989)   9076  4.005674   \n",
       "2110                          Christmas Story, A (1983)  14506  3.993865   \n",
       "5502  Kiki's Delivery Service (Majo no takkyûbin) (1...   4017  3.987055   \n",
       "6908                                          Up (2009)  22460  3.978629   \n",
       "\n",
       "      weighted_score  \n",
       "4141        4.146642  \n",
       "868         4.133575  \n",
       "599         4.111327  \n",
       "4336        4.053650  \n",
       "733         4.015462  \n",
       "6651        4.008297  \n",
       "924         4.004101  \n",
       "2110        3.992903  \n",
       "5502        3.983653  \n",
       "6908        3.978028  "
      ]
     },
     "execution_count": 38,
     "metadata": {},
     "output_type": "execute_result"
    }
   ],
   "source": [
    "#run function to return top recommended movies by genre\n",
    "best_movies_by_genre('Children',10)  "
   ]
  },
  {
   "cell_type": "code",
   "execution_count": 39,
   "metadata": {
    "colab": {
     "base_uri": "https://localhost:8080/",
     "height": 343
    },
    "id": "UH9XGosu8HAw",
    "outputId": "256037a7-fb74-4f9c-95eb-0950b8cee699"
   },
   "outputs": [
    {
     "data": {
      "text/html": [
       "<div>\n",
       "<style scoped>\n",
       "    .dataframe tbody tr th:only-of-type {\n",
       "        vertical-align: middle;\n",
       "    }\n",
       "\n",
       "    .dataframe tbody tr th {\n",
       "        vertical-align: top;\n",
       "    }\n",
       "\n",
       "    .dataframe thead th {\n",
       "        text-align: right;\n",
       "    }\n",
       "</style>\n",
       "<table border=\"1\" class=\"dataframe\">\n",
       "  <thead>\n",
       "    <tr style=\"text-align: right;\">\n",
       "      <th></th>\n",
       "      <th>title</th>\n",
       "      <th>count</th>\n",
       "      <th>mean</th>\n",
       "      <th>weighted_score</th>\n",
       "    </tr>\n",
       "  </thead>\n",
       "  <tbody>\n",
       "    <tr>\n",
       "      <th>277</th>\n",
       "      <td>Shawshank Redemption, The (1994)</td>\n",
       "      <td>91082</td>\n",
       "      <td>4.429015</td>\n",
       "      <td>4.428718</td>\n",
       "    </tr>\n",
       "    <tr>\n",
       "      <th>659</th>\n",
       "      <td>Godfather, The (1972)</td>\n",
       "      <td>57070</td>\n",
       "      <td>4.339811</td>\n",
       "      <td>4.339384</td>\n",
       "    </tr>\n",
       "    <tr>\n",
       "      <th>8825</th>\n",
       "      <td>Band of Brothers (2001)</td>\n",
       "      <td>284</td>\n",
       "      <td>4.394366</td>\n",
       "      <td>4.311601</td>\n",
       "    </tr>\n",
       "    <tr>\n",
       "      <th>461</th>\n",
       "      <td>Schindler's List (1993)</td>\n",
       "      <td>67662</td>\n",
       "      <td>4.266531</td>\n",
       "      <td>4.266203</td>\n",
       "    </tr>\n",
       "    <tr>\n",
       "      <th>922</th>\n",
       "      <td>Godfather: Part II, The (1974)</td>\n",
       "      <td>36679</td>\n",
       "      <td>4.263475</td>\n",
       "      <td>4.262874</td>\n",
       "    </tr>\n",
       "    <tr>\n",
       "      <th>1494</th>\n",
       "      <td>Seven Samurai (Shichinin no samurai) (1954)</td>\n",
       "      <td>13994</td>\n",
       "      <td>4.255074</td>\n",
       "      <td>4.253518</td>\n",
       "    </tr>\n",
       "    <tr>\n",
       "      <th>2226</th>\n",
       "      <td>Fight Club (1999)</td>\n",
       "      <td>60024</td>\n",
       "      <td>4.230716</td>\n",
       "      <td>4.230365</td>\n",
       "    </tr>\n",
       "    <tr>\n",
       "      <th>905</th>\n",
       "      <td>12 Angry Men (1957)</td>\n",
       "      <td>16896</td>\n",
       "      <td>4.231209</td>\n",
       "      <td>4.229962</td>\n",
       "    </tr>\n",
       "    <tr>\n",
       "      <th>896</th>\n",
       "      <td>One Flew Over the Cuckoo's Nest (1975)</td>\n",
       "      <td>40103</td>\n",
       "      <td>4.229135</td>\n",
       "      <td>4.228611</td>\n",
       "    </tr>\n",
       "    <tr>\n",
       "      <th>694</th>\n",
       "      <td>Casablanca (1942)</td>\n",
       "      <td>30043</td>\n",
       "      <td>4.214393</td>\n",
       "      <td>4.213708</td>\n",
       "    </tr>\n",
       "  </tbody>\n",
       "</table>\n",
       "</div>"
      ],
      "text/plain": [
       "                                            title  count      mean  \\\n",
       "277              Shawshank Redemption, The (1994)  91082  4.429015   \n",
       "659                         Godfather, The (1972)  57070  4.339811   \n",
       "8825                      Band of Brothers (2001)    284  4.394366   \n",
       "461                       Schindler's List (1993)  67662  4.266531   \n",
       "922                Godfather: Part II, The (1974)  36679  4.263475   \n",
       "1494  Seven Samurai (Shichinin no samurai) (1954)  13994  4.255074   \n",
       "2226                            Fight Club (1999)  60024  4.230716   \n",
       "905                           12 Angry Men (1957)  16896  4.231209   \n",
       "896        One Flew Over the Cuckoo's Nest (1975)  40103  4.229135   \n",
       "694                             Casablanca (1942)  30043  4.214393   \n",
       "\n",
       "      weighted_score  \n",
       "277         4.428718  \n",
       "659         4.339384  \n",
       "8825        4.311601  \n",
       "461         4.266203  \n",
       "922         4.262874  \n",
       "1494        4.253518  \n",
       "2226        4.230365  \n",
       "905         4.229962  \n",
       "896         4.228611  \n",
       "694         4.213708  "
      ]
     },
     "execution_count": 39,
     "metadata": {},
     "output_type": "execute_result"
    }
   ],
   "source": [
    "#run function to return top recommended movies by genre\n",
    "best_movies_by_genre('Drama',10)  "
   ]
  },
  {
   "cell_type": "code",
   "execution_count": 40,
   "metadata": {
    "id": "iQH2fUbQ8HAy"
   },
   "outputs": [
    {
     "name": "stderr",
     "output_type": "stream",
     "text": [
      "C:\\Users\\kavita\\AppData\\Local\\Programs\\Python\\Python310\\lib\\site-packages\\pandas\\core\\reshape\\reshape.py:130: RuntimeWarning: overflow encountered in long_scalars\n",
      "  num_cells = num_rows * num_columns\n"
     ]
    },
    {
     "ename": "ValueError",
     "evalue": "negative dimensions are not allowed",
     "output_type": "error",
     "traceback": [
      "\u001b[1;31m---------------------------------------------------------------------------\u001b[0m",
      "\u001b[1;31mValueError\u001b[0m                                Traceback (most recent call last)",
      "Input \u001b[1;32mIn [40]\u001b[0m, in \u001b[0;36m<cell line: 2>\u001b[1;34m()\u001b[0m\n\u001b[0;32m      1\u001b[0m \u001b[38;5;66;03m# Creating a data frame that has user ratings accross all movies in form of matrix used in matrix factorisation\u001b[39;00m\n\u001b[1;32m----> 2\u001b[0m ratings_df \u001b[38;5;241m=\u001b[39m \u001b[43mpd\u001b[49m\u001b[38;5;241;43m.\u001b[39;49m\u001b[43mpivot_table\u001b[49m\u001b[43m(\u001b[49m\u001b[43mratings\u001b[49m\u001b[43m,\u001b[49m\u001b[43m \u001b[49m\u001b[43mindex\u001b[49m\u001b[38;5;241;43m=\u001b[39;49m\u001b[38;5;124;43m'\u001b[39;49m\u001b[38;5;124;43muserId\u001b[39;49m\u001b[38;5;124;43m'\u001b[39;49m\u001b[43m,\u001b[49m\u001b[43m \u001b[49m\u001b[43mcolumns\u001b[49m\u001b[38;5;241;43m=\u001b[39;49m\u001b[38;5;124;43m'\u001b[39;49m\u001b[38;5;124;43mmovieId\u001b[39;49m\u001b[38;5;124;43m'\u001b[39;49m\u001b[43m,\u001b[49m\u001b[43m \u001b[49m\u001b[43maggfunc\u001b[49m\u001b[38;5;241;43m=\u001b[39;49m\u001b[43mnp\u001b[49m\u001b[38;5;241;43m.\u001b[39;49m\u001b[43mmax\u001b[49m\u001b[43m)\u001b[49m\n",
      "File \u001b[1;32m~\\AppData\\Local\\Programs\\Python\\Python310\\lib\\site-packages\\pandas\\core\\reshape\\pivot.py:95\u001b[0m, in \u001b[0;36mpivot_table\u001b[1;34m(data, values, index, columns, aggfunc, fill_value, margins, dropna, margins_name, observed, sort)\u001b[0m\n\u001b[0;32m     92\u001b[0m     table \u001b[38;5;241m=\u001b[39m concat(pieces, keys\u001b[38;5;241m=\u001b[39mkeys, axis\u001b[38;5;241m=\u001b[39m\u001b[38;5;241m1\u001b[39m)\n\u001b[0;32m     93\u001b[0m     \u001b[38;5;28;01mreturn\u001b[39;00m table\u001b[38;5;241m.\u001b[39m__finalize__(data, method\u001b[38;5;241m=\u001b[39m\u001b[38;5;124m\"\u001b[39m\u001b[38;5;124mpivot_table\u001b[39m\u001b[38;5;124m\"\u001b[39m)\n\u001b[1;32m---> 95\u001b[0m table \u001b[38;5;241m=\u001b[39m \u001b[43m__internal_pivot_table\u001b[49m\u001b[43m(\u001b[49m\n\u001b[0;32m     96\u001b[0m \u001b[43m    \u001b[49m\u001b[43mdata\u001b[49m\u001b[43m,\u001b[49m\n\u001b[0;32m     97\u001b[0m \u001b[43m    \u001b[49m\u001b[43mvalues\u001b[49m\u001b[43m,\u001b[49m\n\u001b[0;32m     98\u001b[0m \u001b[43m    \u001b[49m\u001b[43mindex\u001b[49m\u001b[43m,\u001b[49m\n\u001b[0;32m     99\u001b[0m \u001b[43m    \u001b[49m\u001b[43mcolumns\u001b[49m\u001b[43m,\u001b[49m\n\u001b[0;32m    100\u001b[0m \u001b[43m    \u001b[49m\u001b[43maggfunc\u001b[49m\u001b[43m,\u001b[49m\n\u001b[0;32m    101\u001b[0m \u001b[43m    \u001b[49m\u001b[43mfill_value\u001b[49m\u001b[43m,\u001b[49m\n\u001b[0;32m    102\u001b[0m \u001b[43m    \u001b[49m\u001b[43mmargins\u001b[49m\u001b[43m,\u001b[49m\n\u001b[0;32m    103\u001b[0m \u001b[43m    \u001b[49m\u001b[43mdropna\u001b[49m\u001b[43m,\u001b[49m\n\u001b[0;32m    104\u001b[0m \u001b[43m    \u001b[49m\u001b[43mmargins_name\u001b[49m\u001b[43m,\u001b[49m\n\u001b[0;32m    105\u001b[0m \u001b[43m    \u001b[49m\u001b[43mobserved\u001b[49m\u001b[43m,\u001b[49m\n\u001b[0;32m    106\u001b[0m \u001b[43m    \u001b[49m\u001b[43msort\u001b[49m\u001b[43m,\u001b[49m\n\u001b[0;32m    107\u001b[0m \u001b[43m\u001b[49m\u001b[43m)\u001b[49m\n\u001b[0;32m    108\u001b[0m \u001b[38;5;28;01mreturn\u001b[39;00m table\u001b[38;5;241m.\u001b[39m__finalize__(data, method\u001b[38;5;241m=\u001b[39m\u001b[38;5;124m\"\u001b[39m\u001b[38;5;124mpivot_table\u001b[39m\u001b[38;5;124m\"\u001b[39m)\n",
      "File \u001b[1;32m~\\AppData\\Local\\Programs\\Python\\Python310\\lib\\site-packages\\pandas\\core\\reshape\\pivot.py:204\u001b[0m, in \u001b[0;36m__internal_pivot_table\u001b[1;34m(data, values, index, columns, aggfunc, fill_value, margins, dropna, margins_name, observed, sort)\u001b[0m\n\u001b[0;32m    202\u001b[0m         \u001b[38;5;28;01melse\u001b[39;00m:\n\u001b[0;32m    203\u001b[0m             to_unstack\u001b[38;5;241m.\u001b[39mappend(name)\n\u001b[1;32m--> 204\u001b[0m     table \u001b[38;5;241m=\u001b[39m \u001b[43magged\u001b[49m\u001b[38;5;241;43m.\u001b[39;49m\u001b[43munstack\u001b[49m\u001b[43m(\u001b[49m\u001b[43mto_unstack\u001b[49m\u001b[43m)\u001b[49m\n\u001b[0;32m    206\u001b[0m \u001b[38;5;28;01mif\u001b[39;00m \u001b[38;5;129;01mnot\u001b[39;00m dropna:\n\u001b[0;32m    207\u001b[0m     \u001b[38;5;28;01mif\u001b[39;00m \u001b[38;5;28misinstance\u001b[39m(table\u001b[38;5;241m.\u001b[39mindex, MultiIndex):\n",
      "File \u001b[1;32m~\\AppData\\Local\\Programs\\Python\\Python310\\lib\\site-packages\\pandas\\core\\frame.py:8419\u001b[0m, in \u001b[0;36mDataFrame.unstack\u001b[1;34m(self, level, fill_value)\u001b[0m\n\u001b[0;32m   8357\u001b[0m \u001b[38;5;124;03m\"\"\"\u001b[39;00m\n\u001b[0;32m   8358\u001b[0m \u001b[38;5;124;03mPivot a level of the (necessarily hierarchical) index labels.\u001b[39;00m\n\u001b[0;32m   8359\u001b[0m \n\u001b[1;32m   (...)\u001b[0m\n\u001b[0;32m   8415\u001b[0m \u001b[38;5;124;03mdtype: float64\u001b[39;00m\n\u001b[0;32m   8416\u001b[0m \u001b[38;5;124;03m\"\"\"\u001b[39;00m\n\u001b[0;32m   8417\u001b[0m \u001b[38;5;28;01mfrom\u001b[39;00m \u001b[38;5;21;01mpandas\u001b[39;00m\u001b[38;5;21;01m.\u001b[39;00m\u001b[38;5;21;01mcore\u001b[39;00m\u001b[38;5;21;01m.\u001b[39;00m\u001b[38;5;21;01mreshape\u001b[39;00m\u001b[38;5;21;01m.\u001b[39;00m\u001b[38;5;21;01mreshape\u001b[39;00m \u001b[38;5;28;01mimport\u001b[39;00m unstack\n\u001b[1;32m-> 8419\u001b[0m result \u001b[38;5;241m=\u001b[39m \u001b[43munstack\u001b[49m\u001b[43m(\u001b[49m\u001b[38;5;28;43mself\u001b[39;49m\u001b[43m,\u001b[49m\u001b[43m \u001b[49m\u001b[43mlevel\u001b[49m\u001b[43m,\u001b[49m\u001b[43m \u001b[49m\u001b[43mfill_value\u001b[49m\u001b[43m)\u001b[49m\n\u001b[0;32m   8421\u001b[0m \u001b[38;5;28;01mreturn\u001b[39;00m result\u001b[38;5;241m.\u001b[39m__finalize__(\u001b[38;5;28mself\u001b[39m, method\u001b[38;5;241m=\u001b[39m\u001b[38;5;124m\"\u001b[39m\u001b[38;5;124munstack\u001b[39m\u001b[38;5;124m\"\u001b[39m)\n",
      "File \u001b[1;32m~\\AppData\\Local\\Programs\\Python\\Python310\\lib\\site-packages\\pandas\\core\\reshape\\reshape.py:478\u001b[0m, in \u001b[0;36munstack\u001b[1;34m(obj, level, fill_value)\u001b[0m\n\u001b[0;32m    476\u001b[0m \u001b[38;5;28;01mif\u001b[39;00m \u001b[38;5;28misinstance\u001b[39m(obj, DataFrame):\n\u001b[0;32m    477\u001b[0m     \u001b[38;5;28;01mif\u001b[39;00m \u001b[38;5;28misinstance\u001b[39m(obj\u001b[38;5;241m.\u001b[39mindex, MultiIndex):\n\u001b[1;32m--> 478\u001b[0m         \u001b[38;5;28;01mreturn\u001b[39;00m \u001b[43m_unstack_frame\u001b[49m\u001b[43m(\u001b[49m\u001b[43mobj\u001b[49m\u001b[43m,\u001b[49m\u001b[43m \u001b[49m\u001b[43mlevel\u001b[49m\u001b[43m,\u001b[49m\u001b[43m \u001b[49m\u001b[43mfill_value\u001b[49m\u001b[38;5;241;43m=\u001b[39;49m\u001b[43mfill_value\u001b[49m\u001b[43m)\u001b[49m\n\u001b[0;32m    479\u001b[0m     \u001b[38;5;28;01melse\u001b[39;00m:\n\u001b[0;32m    480\u001b[0m         \u001b[38;5;28;01mreturn\u001b[39;00m obj\u001b[38;5;241m.\u001b[39mT\u001b[38;5;241m.\u001b[39mstack(dropna\u001b[38;5;241m=\u001b[39m\u001b[38;5;28;01mFalse\u001b[39;00m)\n",
      "File \u001b[1;32m~\\AppData\\Local\\Programs\\Python\\Python310\\lib\\site-packages\\pandas\\core\\reshape\\reshape.py:505\u001b[0m, in \u001b[0;36m_unstack_frame\u001b[1;34m(obj, level, fill_value)\u001b[0m\n\u001b[0;32m    503\u001b[0m     \u001b[38;5;28;01mreturn\u001b[39;00m obj\u001b[38;5;241m.\u001b[39m_constructor(mgr)\n\u001b[0;32m    504\u001b[0m \u001b[38;5;28;01melse\u001b[39;00m:\n\u001b[1;32m--> 505\u001b[0m     unstacker \u001b[38;5;241m=\u001b[39m \u001b[43m_Unstacker\u001b[49m\u001b[43m(\u001b[49m\u001b[43mobj\u001b[49m\u001b[38;5;241;43m.\u001b[39;49m\u001b[43mindex\u001b[49m\u001b[43m,\u001b[49m\u001b[43m \u001b[49m\u001b[43mlevel\u001b[49m\u001b[38;5;241;43m=\u001b[39;49m\u001b[43mlevel\u001b[49m\u001b[43m,\u001b[49m\u001b[43m \u001b[49m\u001b[43mconstructor\u001b[49m\u001b[38;5;241;43m=\u001b[39;49m\u001b[43mobj\u001b[49m\u001b[38;5;241;43m.\u001b[39;49m\u001b[43m_constructor\u001b[49m\u001b[43m)\u001b[49m\n\u001b[0;32m    506\u001b[0m     \u001b[38;5;28;01mreturn\u001b[39;00m unstacker\u001b[38;5;241m.\u001b[39mget_result(\n\u001b[0;32m    507\u001b[0m         obj\u001b[38;5;241m.\u001b[39m_values, value_columns\u001b[38;5;241m=\u001b[39mobj\u001b[38;5;241m.\u001b[39mcolumns, fill_value\u001b[38;5;241m=\u001b[39mfill_value\n\u001b[0;32m    508\u001b[0m     )\n",
      "File \u001b[1;32m~\\AppData\\Local\\Programs\\Python\\Python310\\lib\\site-packages\\pandas\\core\\reshape\\reshape.py:140\u001b[0m, in \u001b[0;36m_Unstacker.__init__\u001b[1;34m(self, index, level, constructor)\u001b[0m\n\u001b[0;32m    133\u001b[0m \u001b[38;5;28;01mif\u001b[39;00m num_cells \u001b[38;5;241m>\u001b[39m np\u001b[38;5;241m.\u001b[39miinfo(np\u001b[38;5;241m.\u001b[39mint32)\u001b[38;5;241m.\u001b[39mmax:\n\u001b[0;32m    134\u001b[0m     warnings\u001b[38;5;241m.\u001b[39mwarn(\n\u001b[0;32m    135\u001b[0m         \u001b[38;5;124mf\u001b[39m\u001b[38;5;124m\"\u001b[39m\u001b[38;5;124mThe following operation may generate \u001b[39m\u001b[38;5;132;01m{\u001b[39;00mnum_cells\u001b[38;5;132;01m}\u001b[39;00m\u001b[38;5;124m cells \u001b[39m\u001b[38;5;124m\"\u001b[39m\n\u001b[0;32m    136\u001b[0m         \u001b[38;5;124mf\u001b[39m\u001b[38;5;124m\"\u001b[39m\u001b[38;5;124min the resulting pandas object.\u001b[39m\u001b[38;5;124m\"\u001b[39m,\n\u001b[0;32m    137\u001b[0m         PerformanceWarning,\n\u001b[0;32m    138\u001b[0m     )\n\u001b[1;32m--> 140\u001b[0m \u001b[38;5;28;43mself\u001b[39;49m\u001b[38;5;241;43m.\u001b[39;49m\u001b[43m_make_selectors\u001b[49m\u001b[43m(\u001b[49m\u001b[43m)\u001b[49m\n",
      "File \u001b[1;32m~\\AppData\\Local\\Programs\\Python\\Python310\\lib\\site-packages\\pandas\\core\\reshape\\reshape.py:188\u001b[0m, in \u001b[0;36m_Unstacker._make_selectors\u001b[1;34m(self)\u001b[0m\n\u001b[0;32m    185\u001b[0m \u001b[38;5;28mself\u001b[39m\u001b[38;5;241m.\u001b[39mfull_shape \u001b[38;5;241m=\u001b[39m ngroups, stride\n\u001b[0;32m    187\u001b[0m selector \u001b[38;5;241m=\u001b[39m \u001b[38;5;28mself\u001b[39m\u001b[38;5;241m.\u001b[39msorted_labels[\u001b[38;5;241m-\u001b[39m\u001b[38;5;241m1\u001b[39m] \u001b[38;5;241m+\u001b[39m stride \u001b[38;5;241m*\u001b[39m comp_index \u001b[38;5;241m+\u001b[39m \u001b[38;5;28mself\u001b[39m\u001b[38;5;241m.\u001b[39mlift\n\u001b[1;32m--> 188\u001b[0m mask \u001b[38;5;241m=\u001b[39m \u001b[43mnp\u001b[49m\u001b[38;5;241;43m.\u001b[39;49m\u001b[43mzeros\u001b[49m\u001b[43m(\u001b[49m\u001b[43mnp\u001b[49m\u001b[38;5;241;43m.\u001b[39;49m\u001b[43mprod\u001b[49m\u001b[43m(\u001b[49m\u001b[38;5;28;43mself\u001b[39;49m\u001b[38;5;241;43m.\u001b[39;49m\u001b[43mfull_shape\u001b[49m\u001b[43m)\u001b[49m\u001b[43m,\u001b[49m\u001b[43m \u001b[49m\u001b[43mdtype\u001b[49m\u001b[38;5;241;43m=\u001b[39;49m\u001b[38;5;28;43mbool\u001b[39;49m\u001b[43m)\u001b[49m\n\u001b[0;32m    189\u001b[0m mask\u001b[38;5;241m.\u001b[39mput(selector, \u001b[38;5;28;01mTrue\u001b[39;00m)\n\u001b[0;32m    191\u001b[0m \u001b[38;5;28;01mif\u001b[39;00m mask\u001b[38;5;241m.\u001b[39msum() \u001b[38;5;241m<\u001b[39m \u001b[38;5;28mlen\u001b[39m(\u001b[38;5;28mself\u001b[39m\u001b[38;5;241m.\u001b[39mindex):\n",
      "\u001b[1;31mValueError\u001b[0m: negative dimensions are not allowed"
     ]
    }
   ],
   "source": [
    "# Creating a data frame that has user ratings accross all movies in form of matrix used in matrix factorisation\n",
    "ratings_df = pd.pivot_table(ratings, index='userId', columns='movieId', aggfunc=np.max)"
   ]
  },
  {
   "cell_type": "code",
   "execution_count": null,
   "metadata": {
    "colab": {
     "base_uri": "https://localhost:8080/",
     "height": 303
    },
    "id": "DXm0TNp18HA1",
    "outputId": "0ceef9e6-279e-4d30-832e-312ddda541fb"
   },
   "outputs": [],
   "source": [
    "ratings_df.head()"
   ]
  },
  {
   "cell_type": "code",
   "execution_count": 46,
   "metadata": {
    "id": "kwKHxHOh8HA3"
   },
   "outputs": [],
   "source": [
    "# Apply low rank matrix factorization to find the latent features\n",
    "#U, M = matrix_factorization_utilities.low_rank_matrix_factorization(ratings_df.as_matrix(),num_features=5,regularization_amount=1.0)"
   ]
  },
  {
   "cell_type": "code",
   "execution_count": 47,
   "metadata": {
    "colab": {
     "base_uri": "https://localhost:8080/",
     "height": 481
    },
    "id": "GFhKYLgy8HA6",
    "outputId": "8db37f95-a995-4592-c004-294b91bec808"
   },
   "outputs": [
    {
     "data": {
      "text/html": [
       "<div>\n",
       "<style scoped>\n",
       "    .dataframe tbody tr th:only-of-type {\n",
       "        vertical-align: middle;\n",
       "    }\n",
       "\n",
       "    .dataframe tbody tr th {\n",
       "        vertical-align: top;\n",
       "    }\n",
       "\n",
       "    .dataframe thead th {\n",
       "        text-align: right;\n",
       "    }\n",
       "</style>\n",
       "<table border=\"1\" class=\"dataframe\">\n",
       "  <thead>\n",
       "    <tr style=\"text-align: right;\">\n",
       "      <th></th>\n",
       "      <th></th>\n",
       "      <th>rating</th>\n",
       "    </tr>\n",
       "    <tr>\n",
       "      <th>userId</th>\n",
       "      <th>movieId</th>\n",
       "      <th></th>\n",
       "    </tr>\n",
       "  </thead>\n",
       "  <tbody>\n",
       "    <tr>\n",
       "      <th rowspan=\"5\" valign=\"top\">1</th>\n",
       "      <th>110</th>\n",
       "      <td>1.0</td>\n",
       "    </tr>\n",
       "    <tr>\n",
       "      <th>147</th>\n",
       "      <td>4.5</td>\n",
       "    </tr>\n",
       "    <tr>\n",
       "      <th>858</th>\n",
       "      <td>5.0</td>\n",
       "    </tr>\n",
       "    <tr>\n",
       "      <th>1221</th>\n",
       "      <td>5.0</td>\n",
       "    </tr>\n",
       "    <tr>\n",
       "      <th>1246</th>\n",
       "      <td>5.0</td>\n",
       "    </tr>\n",
       "    <tr>\n",
       "      <th>...</th>\n",
       "      <th>...</th>\n",
       "      <td>...</td>\n",
       "    </tr>\n",
       "    <tr>\n",
       "      <th rowspan=\"5\" valign=\"top\">270896</th>\n",
       "      <th>58559</th>\n",
       "      <td>5.0</td>\n",
       "    </tr>\n",
       "    <tr>\n",
       "      <th>60069</th>\n",
       "      <td>5.0</td>\n",
       "    </tr>\n",
       "    <tr>\n",
       "      <th>63082</th>\n",
       "      <td>4.5</td>\n",
       "    </tr>\n",
       "    <tr>\n",
       "      <th>64957</th>\n",
       "      <td>4.5</td>\n",
       "    </tr>\n",
       "    <tr>\n",
       "      <th>71878</th>\n",
       "      <td>2.0</td>\n",
       "    </tr>\n",
       "  </tbody>\n",
       "</table>\n",
       "<p>26024289 rows × 1 columns</p>\n",
       "</div>"
      ],
      "text/plain": [
       "                rating\n",
       "userId movieId        \n",
       "1      110         1.0\n",
       "       147         4.5\n",
       "       858         5.0\n",
       "       1221        5.0\n",
       "       1246        5.0\n",
       "...                ...\n",
       "270896 58559       5.0\n",
       "       60069       5.0\n",
       "       63082       4.5\n",
       "       64957       4.5\n",
       "       71878       2.0\n",
       "\n",
       "[26024289 rows x 1 columns]"
      ]
     },
     "execution_count": 47,
     "metadata": {},
     "output_type": "execute_result"
    }
   ],
   "source": [
    "ratings_df"
   ]
  },
  {
   "cell_type": "code",
   "execution_count": 48,
   "metadata": {
    "id": "XigFhzUf8HA8"
   },
   "outputs": [],
   "source": [
    "#merging ratings and movies dataframes\n",
    "ratings_movies = pd.merge(ratings,movie_list, on = 'movieId')"
   ]
  },
  {
   "cell_type": "code",
   "execution_count": 49,
   "metadata": {
    "colab": {
     "base_uri": "https://localhost:8080/",
     "height": 195
    },
    "id": "EPhvx-Zk8HA-",
    "outputId": "4af1a373-31f3-427a-b196-5f685f0ca242"
   },
   "outputs": [
    {
     "data": {
      "text/html": [
       "<div>\n",
       "<style scoped>\n",
       "    .dataframe tbody tr th:only-of-type {\n",
       "        vertical-align: middle;\n",
       "    }\n",
       "\n",
       "    .dataframe tbody tr th {\n",
       "        vertical-align: top;\n",
       "    }\n",
       "\n",
       "    .dataframe thead th {\n",
       "        text-align: right;\n",
       "    }\n",
       "</style>\n",
       "<table border=\"1\" class=\"dataframe\">\n",
       "  <thead>\n",
       "    <tr style=\"text-align: right;\">\n",
       "      <th></th>\n",
       "      <th>userId</th>\n",
       "      <th>movieId</th>\n",
       "      <th>rating</th>\n",
       "      <th>title</th>\n",
       "      <th>genres</th>\n",
       "    </tr>\n",
       "  </thead>\n",
       "  <tbody>\n",
       "    <tr>\n",
       "      <th>0</th>\n",
       "      <td>1</td>\n",
       "      <td>110</td>\n",
       "      <td>1.0</td>\n",
       "      <td>Braveheart (1995)</td>\n",
       "      <td>Action|Drama|War</td>\n",
       "    </tr>\n",
       "    <tr>\n",
       "      <th>1</th>\n",
       "      <td>11</td>\n",
       "      <td>110</td>\n",
       "      <td>3.5</td>\n",
       "      <td>Braveheart (1995)</td>\n",
       "      <td>Action|Drama|War</td>\n",
       "    </tr>\n",
       "    <tr>\n",
       "      <th>2</th>\n",
       "      <td>22</td>\n",
       "      <td>110</td>\n",
       "      <td>5.0</td>\n",
       "      <td>Braveheart (1995)</td>\n",
       "      <td>Action|Drama|War</td>\n",
       "    </tr>\n",
       "    <tr>\n",
       "      <th>3</th>\n",
       "      <td>24</td>\n",
       "      <td>110</td>\n",
       "      <td>5.0</td>\n",
       "      <td>Braveheart (1995)</td>\n",
       "      <td>Action|Drama|War</td>\n",
       "    </tr>\n",
       "    <tr>\n",
       "      <th>4</th>\n",
       "      <td>29</td>\n",
       "      <td>110</td>\n",
       "      <td>3.0</td>\n",
       "      <td>Braveheart (1995)</td>\n",
       "      <td>Action|Drama|War</td>\n",
       "    </tr>\n",
       "  </tbody>\n",
       "</table>\n",
       "</div>"
      ],
      "text/plain": [
       "   userId  movieId  rating              title            genres\n",
       "0       1      110     1.0  Braveheart (1995)  Action|Drama|War\n",
       "1      11      110     3.5  Braveheart (1995)  Action|Drama|War\n",
       "2      22      110     5.0  Braveheart (1995)  Action|Drama|War\n",
       "3      24      110     5.0  Braveheart (1995)  Action|Drama|War\n",
       "4      29      110     3.0  Braveheart (1995)  Action|Drama|War"
      ]
     },
     "execution_count": 49,
     "metadata": {},
     "output_type": "execute_result"
    }
   ],
   "source": [
    "ratings_movies.head()"
   ]
  },
  {
   "cell_type": "code",
   "execution_count": 50,
   "metadata": {
    "colab": {
     "base_uri": "https://localhost:8080/",
     "height": 402
    },
    "id": "kDtsj8vZ8HBE",
    "outputId": "345f04e1-b3d1-4608-a34a-f2e94c76741a"
   },
   "outputs": [
    {
     "data": {
      "text/html": [
       "<div>\n",
       "<style scoped>\n",
       "    .dataframe tbody tr th:only-of-type {\n",
       "        vertical-align: middle;\n",
       "    }\n",
       "\n",
       "    .dataframe tbody tr th {\n",
       "        vertical-align: top;\n",
       "    }\n",
       "\n",
       "    .dataframe thead th {\n",
       "        text-align: right;\n",
       "    }\n",
       "</style>\n",
       "<table border=\"1\" class=\"dataframe\">\n",
       "  <thead>\n",
       "    <tr style=\"text-align: right;\">\n",
       "      <th></th>\n",
       "      <th>userId</th>\n",
       "      <th>movieId</th>\n",
       "      <th>rating</th>\n",
       "      <th>title</th>\n",
       "      <th>genres</th>\n",
       "    </tr>\n",
       "  </thead>\n",
       "  <tbody>\n",
       "    <tr>\n",
       "      <th>0</th>\n",
       "      <td>1</td>\n",
       "      <td>110</td>\n",
       "      <td>1.0</td>\n",
       "      <td>Braveheart (1995)</td>\n",
       "      <td>Action|Drama|War</td>\n",
       "    </tr>\n",
       "    <tr>\n",
       "      <th>1</th>\n",
       "      <td>11</td>\n",
       "      <td>110</td>\n",
       "      <td>3.5</td>\n",
       "      <td>Braveheart (1995)</td>\n",
       "      <td>Action|Drama|War</td>\n",
       "    </tr>\n",
       "    <tr>\n",
       "      <th>2</th>\n",
       "      <td>22</td>\n",
       "      <td>110</td>\n",
       "      <td>5.0</td>\n",
       "      <td>Braveheart (1995)</td>\n",
       "      <td>Action|Drama|War</td>\n",
       "    </tr>\n",
       "    <tr>\n",
       "      <th>3</th>\n",
       "      <td>24</td>\n",
       "      <td>110</td>\n",
       "      <td>5.0</td>\n",
       "      <td>Braveheart (1995)</td>\n",
       "      <td>Action|Drama|War</td>\n",
       "    </tr>\n",
       "    <tr>\n",
       "      <th>4</th>\n",
       "      <td>29</td>\n",
       "      <td>110</td>\n",
       "      <td>3.0</td>\n",
       "      <td>Braveheart (1995)</td>\n",
       "      <td>Action|Drama|War</td>\n",
       "    </tr>\n",
       "    <tr>\n",
       "      <th>...</th>\n",
       "      <td>...</td>\n",
       "      <td>...</td>\n",
       "      <td>...</td>\n",
       "      <td>...</td>\n",
       "      <td>...</td>\n",
       "    </tr>\n",
       "    <tr>\n",
       "      <th>25198550</th>\n",
       "      <td>270887</td>\n",
       "      <td>121007</td>\n",
       "      <td>2.0</td>\n",
       "      <td>Space Buddies (2009)</td>\n",
       "      <td>Adventure|Children|Fantasy|Sci-Fi</td>\n",
       "    </tr>\n",
       "    <tr>\n",
       "      <th>25198551</th>\n",
       "      <td>267597</td>\n",
       "      <td>136850</td>\n",
       "      <td>3.5</td>\n",
       "      <td>Villain (1971)</td>\n",
       "      <td>Crime|Drama|Thriller</td>\n",
       "    </tr>\n",
       "    <tr>\n",
       "      <th>25198552</th>\n",
       "      <td>268827</td>\n",
       "      <td>136838</td>\n",
       "      <td>2.5</td>\n",
       "      <td>Kiss me Kismet (2006)</td>\n",
       "      <td>Comedy|Romance</td>\n",
       "    </tr>\n",
       "    <tr>\n",
       "      <th>25198553</th>\n",
       "      <td>270123</td>\n",
       "      <td>128197</td>\n",
       "      <td>2.5</td>\n",
       "      <td>Hard Promises (1991)</td>\n",
       "      <td>Comedy|Romance</td>\n",
       "    </tr>\n",
       "    <tr>\n",
       "      <th>25198554</th>\n",
       "      <td>270887</td>\n",
       "      <td>128197</td>\n",
       "      <td>2.0</td>\n",
       "      <td>Hard Promises (1991)</td>\n",
       "      <td>Comedy|Romance</td>\n",
       "    </tr>\n",
       "  </tbody>\n",
       "</table>\n",
       "<p>25198555 rows × 5 columns</p>\n",
       "</div>"
      ],
      "text/plain": [
       "          userId  movieId  rating                  title  \\\n",
       "0              1      110     1.0      Braveheart (1995)   \n",
       "1             11      110     3.5      Braveheart (1995)   \n",
       "2             22      110     5.0      Braveheart (1995)   \n",
       "3             24      110     5.0      Braveheart (1995)   \n",
       "4             29      110     3.0      Braveheart (1995)   \n",
       "...          ...      ...     ...                    ...   \n",
       "25198550  270887   121007     2.0   Space Buddies (2009)   \n",
       "25198551  267597   136850     3.5         Villain (1971)   \n",
       "25198552  268827   136838     2.5  Kiss me Kismet (2006)   \n",
       "25198553  270123   128197     2.5   Hard Promises (1991)   \n",
       "25198554  270887   128197     2.0   Hard Promises (1991)   \n",
       "\n",
       "                                     genres  \n",
       "0                          Action|Drama|War  \n",
       "1                          Action|Drama|War  \n",
       "2                          Action|Drama|War  \n",
       "3                          Action|Drama|War  \n",
       "4                          Action|Drama|War  \n",
       "...                                     ...  \n",
       "25198550  Adventure|Children|Fantasy|Sci-Fi  \n",
       "25198551               Crime|Drama|Thriller  \n",
       "25198552                     Comedy|Romance  \n",
       "25198553                     Comedy|Romance  \n",
       "25198554                     Comedy|Romance  \n",
       "\n",
       "[25198555 rows x 5 columns]"
      ]
     },
     "execution_count": 50,
     "metadata": {},
     "output_type": "execute_result"
    }
   ],
   "source": [
    "ratings_movies"
   ]
  },
  {
   "cell_type": "code",
   "execution_count": 51,
   "metadata": {
    "id": "eWdM9aFs8HBH"
   },
   "outputs": [],
   "source": [
    "#Gets the other top 10 movies which are watched by the people who saw this particular movie\n",
    "def get_other_movies(movie_name):\n",
    "    #get all users who watched a specific movie\n",
    "    df_movie_users_series = ratings_movies.loc[ratings_movies['title']==movie_name]['userId']\n",
    "    #convert to a data frame\n",
    "    df_movie_users = pd.DataFrame(df_movie_users_series,columns=['userId'])\n",
    "    #get a list of all other movies watched by these users\n",
    "    other_movies = pd.merge(df_movie_users,ratings_movies,on='userId')\n",
    "    #get a list of the most commonly watched movies by these other user\n",
    "    other_users_watched = pd.DataFrame(other_movies.groupby('title')['userId'].count()).sort_values('userId',ascending=False)\n",
    "    other_users_watched['perc_who_watched'] = round(other_users_watched['userId']*100/other_users_watched['userId'][0],1)\n",
    "    return other_users_watched[:10]"
   ]
  },
  {
   "cell_type": "code",
   "execution_count": 52,
   "metadata": {
    "colab": {
     "base_uri": "https://localhost:8080/",
     "height": 373
    },
    "id": "b7CoWd118HBJ",
    "outputId": "69b9e082-9fdc-47e5-e0b2-285dc43884c8"
   },
   "outputs": [
    {
     "data": {
      "text/html": [
       "<div>\n",
       "<style scoped>\n",
       "    .dataframe tbody tr th:only-of-type {\n",
       "        vertical-align: middle;\n",
       "    }\n",
       "\n",
       "    .dataframe tbody tr th {\n",
       "        vertical-align: top;\n",
       "    }\n",
       "\n",
       "    .dataframe thead th {\n",
       "        text-align: right;\n",
       "    }\n",
       "</style>\n",
       "<table border=\"1\" class=\"dataframe\">\n",
       "  <thead>\n",
       "    <tr style=\"text-align: right;\">\n",
       "      <th></th>\n",
       "      <th>userId</th>\n",
       "      <th>perc_who_watched</th>\n",
       "    </tr>\n",
       "    <tr>\n",
       "      <th>title</th>\n",
       "      <th></th>\n",
       "      <th></th>\n",
       "    </tr>\n",
       "  </thead>\n",
       "  <tbody>\n",
       "    <tr>\n",
       "      <th>Gone Girl (2014)</th>\n",
       "      <td>10649</td>\n",
       "      <td>100.0</td>\n",
       "    </tr>\n",
       "    <tr>\n",
       "      <th>Inception (2010)</th>\n",
       "      <td>8445</td>\n",
       "      <td>79.3</td>\n",
       "    </tr>\n",
       "    <tr>\n",
       "      <th>Matrix, The (1999)</th>\n",
       "      <td>8094</td>\n",
       "      <td>76.0</td>\n",
       "    </tr>\n",
       "    <tr>\n",
       "      <th>Shawshank Redemption, The (1994)</th>\n",
       "      <td>7897</td>\n",
       "      <td>74.2</td>\n",
       "    </tr>\n",
       "    <tr>\n",
       "      <th>Fight Club (1999)</th>\n",
       "      <td>7666</td>\n",
       "      <td>72.0</td>\n",
       "    </tr>\n",
       "    <tr>\n",
       "      <th>Dark Knight, The (2008)</th>\n",
       "      <td>7553</td>\n",
       "      <td>70.9</td>\n",
       "    </tr>\n",
       "    <tr>\n",
       "      <th>Interstellar (2014)</th>\n",
       "      <td>7494</td>\n",
       "      <td>70.4</td>\n",
       "    </tr>\n",
       "    <tr>\n",
       "      <th>Forrest Gump (1994)</th>\n",
       "      <td>7327</td>\n",
       "      <td>68.8</td>\n",
       "    </tr>\n",
       "    <tr>\n",
       "      <th>Pulp Fiction (1994)</th>\n",
       "      <td>6846</td>\n",
       "      <td>64.3</td>\n",
       "    </tr>\n",
       "    <tr>\n",
       "      <th>Lord of the Rings: The Fellowship of the Ring, The (2001)</th>\n",
       "      <td>6804</td>\n",
       "      <td>63.9</td>\n",
       "    </tr>\n",
       "  </tbody>\n",
       "</table>\n",
       "</div>"
      ],
      "text/plain": [
       "                                                    userId  perc_who_watched\n",
       "title                                                                       \n",
       "Gone Girl (2014)                                     10649             100.0\n",
       "Inception (2010)                                      8445              79.3\n",
       "Matrix, The (1999)                                    8094              76.0\n",
       "Shawshank Redemption, The (1994)                      7897              74.2\n",
       "Fight Club (1999)                                     7666              72.0\n",
       "Dark Knight, The (2008)                               7553              70.9\n",
       "Interstellar (2014)                                   7494              70.4\n",
       "Forrest Gump (1994)                                   7327              68.8\n",
       "Pulp Fiction (1994)                                   6846              64.3\n",
       "Lord of the Rings: The Fellowship of the Ring, ...    6804              63.9"
      ]
     },
     "execution_count": 52,
     "metadata": {},
     "output_type": "execute_result"
    }
   ],
   "source": [
    "# Getting other top 10 movies which are watched by the people who saw 'Gone Girl'\n",
    "get_other_movies('Gone Girl (2014)')"
   ]
  },
  {
   "cell_type": "code",
   "execution_count": 53,
   "metadata": {
    "id": "0HXRf58O8HBL"
   },
   "outputs": [],
   "source": [
    "from sklearn.neighbors import NearestNeighbors\n"
   ]
  },
  {
   "cell_type": "code",
   "execution_count": 54,
   "metadata": {
    "colab": {
     "base_uri": "https://localhost:8080/",
     "height": 225
    },
    "id": "f_lUsh_g8HBN",
    "outputId": "76181aec-35d8-4c3f-8e6e-cfb0029874f6"
   },
   "outputs": [
    {
     "data": {
      "text/html": [
       "<div>\n",
       "<style scoped>\n",
       "    .dataframe tbody tr th:only-of-type {\n",
       "        vertical-align: middle;\n",
       "    }\n",
       "\n",
       "    .dataframe tbody tr th {\n",
       "        vertical-align: top;\n",
       "    }\n",
       "\n",
       "    .dataframe thead th {\n",
       "        text-align: right;\n",
       "    }\n",
       "</style>\n",
       "<table border=\"1\" class=\"dataframe\">\n",
       "  <thead>\n",
       "    <tr style=\"text-align: right;\">\n",
       "      <th></th>\n",
       "      <th>mean</th>\n",
       "      <th>count</th>\n",
       "    </tr>\n",
       "    <tr>\n",
       "      <th>movieId</th>\n",
       "      <th></th>\n",
       "      <th></th>\n",
       "    </tr>\n",
       "  </thead>\n",
       "  <tbody>\n",
       "    <tr>\n",
       "      <th>1</th>\n",
       "      <td>3.888157</td>\n",
       "      <td>66008</td>\n",
       "    </tr>\n",
       "    <tr>\n",
       "      <th>2</th>\n",
       "      <td>3.236953</td>\n",
       "      <td>26060</td>\n",
       "    </tr>\n",
       "    <tr>\n",
       "      <th>3</th>\n",
       "      <td>3.175550</td>\n",
       "      <td>15497</td>\n",
       "    </tr>\n",
       "    <tr>\n",
       "      <th>4</th>\n",
       "      <td>2.875713</td>\n",
       "      <td>2981</td>\n",
       "    </tr>\n",
       "    <tr>\n",
       "      <th>5</th>\n",
       "      <td>3.079565</td>\n",
       "      <td>15258</td>\n",
       "    </tr>\n",
       "  </tbody>\n",
       "</table>\n",
       "</div>"
      ],
      "text/plain": [
       "             mean  count\n",
       "movieId                 \n",
       "1        3.888157  66008\n",
       "2        3.236953  26060\n",
       "3        3.175550  15497\n",
       "4        2.875713   2981\n",
       "5        3.079565  15258"
      ]
     },
     "execution_count": 54,
     "metadata": {},
     "output_type": "execute_result"
    }
   ],
   "source": [
    "avg_movie_rating.head()"
   ]
  },
  {
   "cell_type": "code",
   "execution_count": 55,
   "metadata": {
    "colab": {
     "base_uri": "https://localhost:8080/",
     "height": 34
    },
    "id": "T-UXvHJt8HBP",
    "outputId": "9f2449ed-045f-4c64-df51-48477645e836"
   },
   "outputs": [
    {
     "name": "stdout",
     "output_type": "stream",
     "text": [
      "21259\n"
     ]
    }
   ],
   "source": [
    "#only include movies with more than 10 ratings\n",
    "movie_plus_10_ratings = avg_movie_rating.loc[avg_movie_rating['count']>=10]\n",
    "print(len(movie_plus_10_ratings))"
   ]
  },
  {
   "cell_type": "code",
   "execution_count": 56,
   "metadata": {
    "colab": {
     "base_uri": "https://localhost:8080/",
     "height": 431
    },
    "id": "ZHSMMh8W8HBR",
    "outputId": "4d9799d0-985d-41d9-90cc-12917012b0e9"
   },
   "outputs": [
    {
     "data": {
      "text/html": [
       "<div>\n",
       "<style scoped>\n",
       "    .dataframe tbody tr th:only-of-type {\n",
       "        vertical-align: middle;\n",
       "    }\n",
       "\n",
       "    .dataframe tbody tr th {\n",
       "        vertical-align: top;\n",
       "    }\n",
       "\n",
       "    .dataframe thead th {\n",
       "        text-align: right;\n",
       "    }\n",
       "</style>\n",
       "<table border=\"1\" class=\"dataframe\">\n",
       "  <thead>\n",
       "    <tr style=\"text-align: right;\">\n",
       "      <th></th>\n",
       "      <th>mean</th>\n",
       "      <th>count</th>\n",
       "    </tr>\n",
       "    <tr>\n",
       "      <th>movieId</th>\n",
       "      <th></th>\n",
       "      <th></th>\n",
       "    </tr>\n",
       "  </thead>\n",
       "  <tbody>\n",
       "    <tr>\n",
       "      <th>1</th>\n",
       "      <td>3.888157</td>\n",
       "      <td>66008</td>\n",
       "    </tr>\n",
       "    <tr>\n",
       "      <th>2</th>\n",
       "      <td>3.236953</td>\n",
       "      <td>26060</td>\n",
       "    </tr>\n",
       "    <tr>\n",
       "      <th>3</th>\n",
       "      <td>3.175550</td>\n",
       "      <td>15497</td>\n",
       "    </tr>\n",
       "    <tr>\n",
       "      <th>4</th>\n",
       "      <td>2.875713</td>\n",
       "      <td>2981</td>\n",
       "    </tr>\n",
       "    <tr>\n",
       "      <th>5</th>\n",
       "      <td>3.079565</td>\n",
       "      <td>15258</td>\n",
       "    </tr>\n",
       "    <tr>\n",
       "      <th>...</th>\n",
       "      <td>...</td>\n",
       "      <td>...</td>\n",
       "    </tr>\n",
       "    <tr>\n",
       "      <th>175475</th>\n",
       "      <td>0.631579</td>\n",
       "      <td>19</td>\n",
       "    </tr>\n",
       "    <tr>\n",
       "      <th>175585</th>\n",
       "      <td>4.000000</td>\n",
       "      <td>10</td>\n",
       "    </tr>\n",
       "    <tr>\n",
       "      <th>175655</th>\n",
       "      <td>2.062500</td>\n",
       "      <td>16</td>\n",
       "    </tr>\n",
       "    <tr>\n",
       "      <th>175795</th>\n",
       "      <td>2.157895</td>\n",
       "      <td>19</td>\n",
       "    </tr>\n",
       "    <tr>\n",
       "      <th>176211</th>\n",
       "      <td>3.764706</td>\n",
       "      <td>17</td>\n",
       "    </tr>\n",
       "  </tbody>\n",
       "</table>\n",
       "<p>21259 rows × 2 columns</p>\n",
       "</div>"
      ],
      "text/plain": [
       "             mean  count\n",
       "movieId                 \n",
       "1        3.888157  66008\n",
       "2        3.236953  26060\n",
       "3        3.175550  15497\n",
       "4        2.875713   2981\n",
       "5        3.079565  15258\n",
       "...           ...    ...\n",
       "175475   0.631579     19\n",
       "175585   4.000000     10\n",
       "175655   2.062500     16\n",
       "175795   2.157895     19\n",
       "176211   3.764706     17\n",
       "\n",
       "[21259 rows x 2 columns]"
      ]
     },
     "execution_count": 56,
     "metadata": {},
     "output_type": "execute_result"
    }
   ],
   "source": [
    "movie_plus_10_ratings"
   ]
  },
  {
   "cell_type": "code",
   "execution_count": 57,
   "metadata": {
    "colab": {
     "base_uri": "https://localhost:8080/",
     "height": 34
    },
    "id": "C7kD17kq8HBU",
    "outputId": "e7820754-8132-45a3-d9dc-e2eda6595e77"
   },
   "outputs": [
    {
     "data": {
      "text/plain": [
       "25949509"
      ]
     },
     "execution_count": 57,
     "metadata": {},
     "output_type": "execute_result"
    }
   ],
   "source": [
    "filtered_ratings = pd.merge(movie_plus_10_ratings, ratings, on=\"movieId\")\n",
    "len(filtered_ratings)"
   ]
  },
  {
   "cell_type": "code",
   "execution_count": 58,
   "metadata": {
    "colab": {
     "base_uri": "https://localhost:8080/",
     "height": 195
    },
    "id": "Pk5y-7uO8HBW",
    "outputId": "9b4200f2-5478-4cbe-c748-87dbafd66f60"
   },
   "outputs": [
    {
     "data": {
      "text/html": [
       "<div>\n",
       "<style scoped>\n",
       "    .dataframe tbody tr th:only-of-type {\n",
       "        vertical-align: middle;\n",
       "    }\n",
       "\n",
       "    .dataframe tbody tr th {\n",
       "        vertical-align: top;\n",
       "    }\n",
       "\n",
       "    .dataframe thead th {\n",
       "        text-align: right;\n",
       "    }\n",
       "</style>\n",
       "<table border=\"1\" class=\"dataframe\">\n",
       "  <thead>\n",
       "    <tr style=\"text-align: right;\">\n",
       "      <th></th>\n",
       "      <th>movieId</th>\n",
       "      <th>mean</th>\n",
       "      <th>count</th>\n",
       "      <th>userId</th>\n",
       "      <th>rating</th>\n",
       "    </tr>\n",
       "  </thead>\n",
       "  <tbody>\n",
       "    <tr>\n",
       "      <th>0</th>\n",
       "      <td>1</td>\n",
       "      <td>3.888157</td>\n",
       "      <td>66008</td>\n",
       "      <td>8</td>\n",
       "      <td>4.0</td>\n",
       "    </tr>\n",
       "    <tr>\n",
       "      <th>1</th>\n",
       "      <td>1</td>\n",
       "      <td>3.888157</td>\n",
       "      <td>66008</td>\n",
       "      <td>9</td>\n",
       "      <td>4.5</td>\n",
       "    </tr>\n",
       "    <tr>\n",
       "      <th>2</th>\n",
       "      <td>1</td>\n",
       "      <td>3.888157</td>\n",
       "      <td>66008</td>\n",
       "      <td>12</td>\n",
       "      <td>4.0</td>\n",
       "    </tr>\n",
       "    <tr>\n",
       "      <th>3</th>\n",
       "      <td>1</td>\n",
       "      <td>3.888157</td>\n",
       "      <td>66008</td>\n",
       "      <td>20</td>\n",
       "      <td>4.0</td>\n",
       "    </tr>\n",
       "    <tr>\n",
       "      <th>4</th>\n",
       "      <td>1</td>\n",
       "      <td>3.888157</td>\n",
       "      <td>66008</td>\n",
       "      <td>24</td>\n",
       "      <td>4.0</td>\n",
       "    </tr>\n",
       "  </tbody>\n",
       "</table>\n",
       "</div>"
      ],
      "text/plain": [
       "   movieId      mean  count  userId  rating\n",
       "0        1  3.888157  66008       8     4.0\n",
       "1        1  3.888157  66008       9     4.5\n",
       "2        1  3.888157  66008      12     4.0\n",
       "3        1  3.888157  66008      20     4.0\n",
       "4        1  3.888157  66008      24     4.0"
      ]
     },
     "execution_count": 58,
     "metadata": {},
     "output_type": "execute_result"
    }
   ],
   "source": [
    "filtered_ratings.head()"
   ]
  },
  {
   "cell_type": "code",
   "execution_count": 1,
   "metadata": {
    "colab": {
     "base_uri": "https://localhost:8080/",
     "height": 274
    },
    "id": "ldioypYY8HBX",
    "outputId": "a39ede23-9bd5-4511-94e7-606b6a081593"
   },
   "outputs": [
    {
     "ename": "NameError",
     "evalue": "name 'filtered_ratings' is not defined",
     "output_type": "error",
     "traceback": [
      "\u001b[1;31m---------------------------------------------------------------------------\u001b[0m",
      "\u001b[1;31mNameError\u001b[0m                                 Traceback (most recent call last)",
      "Input \u001b[1;32mIn [1]\u001b[0m, in \u001b[0;36m<cell line: 3>\u001b[1;34m()\u001b[0m\n\u001b[0;32m      1\u001b[0m \u001b[38;5;66;03m#create a matrix table with movieIds on the rows and userIds in the columns.\u001b[39;00m\n\u001b[0;32m      2\u001b[0m \u001b[38;5;66;03m#replace NAN values with 0\u001b[39;00m\n\u001b[1;32m----> 3\u001b[0m movie_wide \u001b[38;5;241m=\u001b[39m \u001b[43mfiltered_ratings\u001b[49m\u001b[38;5;241m.\u001b[39mpivot(index \u001b[38;5;241m=\u001b[39m \u001b[38;5;124m'\u001b[39m\u001b[38;5;124mmovieId\u001b[39m\u001b[38;5;124m'\u001b[39m, columns \u001b[38;5;241m=\u001b[39m \u001b[38;5;124m'\u001b[39m\u001b[38;5;124muserId\u001b[39m\u001b[38;5;124m'\u001b[39m, values \u001b[38;5;241m=\u001b[39m \u001b[38;5;124m'\u001b[39m\u001b[38;5;124mrating\u001b[39m\u001b[38;5;124m'\u001b[39m)\u001b[38;5;241m.\u001b[39mfillna(\u001b[38;5;241m0\u001b[39m)\n\u001b[0;32m      4\u001b[0m movie_wide\u001b[38;5;241m.\u001b[39mhead()\n",
      "\u001b[1;31mNameError\u001b[0m: name 'filtered_ratings' is not defined"
     ]
    }
   ],
   "source": [
    "#create a matrix table with movieIds on the rows and userIds in the columns.\n",
    "#replace NAN values with 0\n",
    "movie_wide = filtered_ratings.pivot(index = 'movieId', columns = 'userId', values = 'rating').fillna(0)\n",
    "movie_wide.head()"
   ]
  },
  {
   "cell_type": "code",
   "execution_count": null,
   "metadata": {
    "colab": {
     "base_uri": "https://localhost:8080/",
     "height": 67
    },
    "id": "uFlnbTxt8HBZ",
    "outputId": "777ba8a2-1e60-4638-9dba-89b7d07a9b47"
   },
   "outputs": [],
   "source": [
    "#specify model parameters\n",
    "model_knn = NearestNeighbors(metric='cosine',algorithm='brute')\n",
    "#fit model to the data set\n",
    "model_knn.fit(movie_wide)\n"
   ]
  },
  {
   "cell_type": "code",
   "execution_count": null,
   "metadata": {
    "id": "AZykYk4t8HBb"
   },
   "outputs": [],
   "source": [
    "#Gets the top 10 nearest neighbours got the movie\n",
    "def print_similar_movies(query_index) :\n",
    "    #get the list of user ratings for a specific userId\n",
    "    query_index_movie_ratings = movie_wide.loc[query_index,:].values.reshape(1,-1)\n",
    "    #get the closest 10 movies and their distances from the movie specified\n",
    "    distances,indices = model_knn.kneighbors(query_index_movie_ratings,n_neighbors = 11) \n",
    "    #write a loop that prints the similar movies for a specified movie.\n",
    "    for i in range(0,len(distances.flatten())):\n",
    "        #get the title of the random movie that was chosen\n",
    "        get_movie = movie_list.loc[movie_list['movieId']==query_index]['title']\n",
    "        #for the first movie in the list i.e closest print the title\n",
    "        if i==0:\n",
    "            print('Recommendations for {0}:\\n'.format(get_movie))\n",
    "        else :\n",
    "            #get the indiciees for the closest movies\n",
    "            indices_flat = indices.flatten()[i]\n",
    "            #get the title of the movie\n",
    "            get_movie = movie_list.loc[movie_list['movieId']==movie_wide.iloc[indices_flat,:].name]['title']\n",
    "            #print the movie\n",
    "            print('{0}: {1}, with distance of {2}:'.format(i,get_movie,distances.flatten()[i]))"
   ]
  },
  {
   "cell_type": "code",
   "execution_count": null,
   "metadata": {
    "colab": {
     "base_uri": "https://localhost:8080/",
     "height": 403
    },
    "id": "CMbg4gmx8HBc",
    "outputId": "67c26532-dea7-442a-92ad-6241f0374ba1"
   },
   "outputs": [],
   "source": [
    "print_similar_movies(112552)"
   ]
  },
  {
   "cell_type": "code",
   "execution_count": null,
   "metadata": {
    "colab": {
     "base_uri": "https://localhost:8080/",
     "height": 403
    },
    "id": "3YO8jjr38HBe",
    "outputId": "e1fc1da8-bb6d-4cb9-b8d5-017446b4996f"
   },
   "outputs": [],
   "source": [
    "print_similar_movies(1)"
   ]
  },
  {
   "cell_type": "code",
   "execution_count": null,
   "metadata": {
    "colab": {
     "base_uri": "https://localhost:8080/",
     "height": 403
    },
    "id": "_6C11J548HBf",
    "outputId": "d19a317b-cd92-490c-f84b-da97a1dcf8ca"
   },
   "outputs": [],
   "source": [
    "print_similar_movies(96079)"
   ]
  },
  {
   "cell_type": "code",
   "execution_count": null,
   "metadata": {
    "colab": {
     "base_uri": "https://localhost:8080/",
     "height": 400
    },
    "id": "m2tmCJP48HBi",
    "outputId": "f897466f-b95b-4f9a-bf55-3a4cc87ff70c"
   },
   "outputs": [],
   "source": [
    "movies_with_genres.head()"
   ]
  },
  {
   "cell_type": "code",
   "execution_count": null,
   "metadata": {
    "colab": {
     "base_uri": "https://localhost:8080/",
     "height": 455
    },
    "id": "CCPgfFtu8HBk",
    "outputId": "218321dc-7d24-4601-8f8a-0bc42a292e11"
   },
   "outputs": [],
   "source": [
    "#Getting the movies list with only genres like Musical and other such columns\n",
    "movie_content_df_temp = movies_with_genres.copy()\n",
    "movie_content_df_temp.set_index('movieId')\n",
    "movie_content_df = movie_content_df_temp.drop(columns = ['movieId','title','genres'])\n",
    "#movie_content_df = movie_content_df.as_matrix()\n",
    "movie_content_df"
   ]
  },
  {
   "cell_type": "code",
   "execution_count": null,
   "metadata": {
    "id": "5Vnh3LZm8HBn"
   },
   "outputs": [],
   "source": [
    "# Import linear_kernel\n",
    "from sklearn.metrics.pairwise import linear_kernel\n",
    "\n",
    "# Compute the cosine similarity matrix\n",
    "cosine_sim = linear_kernel(movie_content_df,movie_content_df)"
   ]
  },
  {
   "cell_type": "code",
   "execution_count": null,
   "metadata": {
    "colab": {
     "base_uri": "https://localhost:8080/",
     "height": 134
    },
    "id": "H7vjVr4g8HBp",
    "outputId": "eca6a276-c275-4df3-8af3-e721b26b7db9"
   },
   "outputs": [],
   "source": [
    "# Similarity of the movies based on the content\n",
    "cosine_sim"
   ]
  },
  {
   "cell_type": "code",
   "execution_count": null,
   "metadata": {
    "colab": {
     "base_uri": "https://localhost:8080/",
     "height": 235
    },
    "id": "1lwbu6LH8HBr",
    "outputId": "896e9821-b3bf-4d10-f6bc-32f0b08da1f0"
   },
   "outputs": [],
   "source": [
    "#create a series of the movie id and title\n",
    "indicies = pd.Series(movie_content_df_temp.index, movie_content_df_temp['title'])\n",
    "indicies "
   ]
  },
  {
   "cell_type": "code",
   "execution_count": null,
   "metadata": {
    "id": "giEfSxdW8HBt"
   },
   "outputs": [],
   "source": [
    "#Gets the top 10 similar movies based on the content\n",
    "def get_similar_movies_based_on_content(movie_index) :\n",
    "    sim_scores = list(enumerate(cosine_sim[movie_index]))\n",
    "    # Sort the movies based on the similarity scores\n",
    "    sim_scores = sorted(sim_scores, key=lambda x: x[1], reverse=True)\n",
    "   \n",
    "    # Get the scores of the 10 most similar movies\n",
    "    sim_scores = sim_scores[0:11]\n",
    "    print(sim_scores)\n",
    "    # Get the movie indices\n",
    "    movie_indices = [i[0] for i in sim_scores]\n",
    "    print(movie_indices)\n",
    "    similar_movies = pd.DataFrame(movie_content_df_temp[['title','genres']].iloc[movie_indices])\n",
    "    return similar_movies"
   ]
  },
  {
   "cell_type": "code",
   "execution_count": null,
   "metadata": {
    "colab": {
     "base_uri": "https://localhost:8080/",
     "height": 34
    },
    "id": "edXbwcyg8HBu",
    "outputId": "c01651fb-9395-4db9-f961-4fd49450e2ab"
   },
   "outputs": [],
   "source": [
    "indicies[\"Skyfall (2012)\"]"
   ]
  },
  {
   "cell_type": "code",
   "execution_count": null,
   "metadata": {
    "colab": {
     "base_uri": "https://localhost:8080/",
     "height": 426
    },
    "id": "cXlWS4VL8HBw",
    "outputId": "fe1ea95c-2cb8-4b79-930f-664efa7862b6"
   },
   "outputs": [],
   "source": [
    "get_similar_movies_based_on_content(19338)"
   ]
  },
  {
   "cell_type": "code",
   "execution_count": null,
   "metadata": {
    "colab": {
     "base_uri": "https://localhost:8080/",
     "height": 195
    },
    "id": "ov2V33HB8HBz",
    "outputId": "fe7ccf26-f30b-45aa-f853-35b5b0181de1"
   },
   "outputs": [],
   "source": [
    "#get ordered list of movieIds\n",
    "item_indices = pd.DataFrame(sorted(list(set(ratings['movieId']))),columns=['movieId'])\n",
    "#add in data frame index value to data frame\n",
    "item_indices['movie_index']=item_indices.index\n",
    "#inspect data frame\n",
    "item_indices.head()\n"
   ]
  },
  {
   "cell_type": "code",
   "execution_count": null,
   "metadata": {
    "colab": {
     "base_uri": "https://localhost:8080/",
     "height": 195
    },
    "id": "VWVsW4Xk8HB1",
    "outputId": "23327460-fa40-41ea-d5a2-9028daa5cb8d"
   },
   "outputs": [],
   "source": [
    "#get ordered list of movieIds\n",
    "user_indices = pd.DataFrame(sorted(list(set(ratings['userId']))),columns=['userId'])\n",
    "#add in data frame index value to data frame\n",
    "user_indices['user_index']=user_indices.index\n",
    "#inspect data frame\n",
    "user_indices.head()"
   ]
  },
  {
   "cell_type": "code",
   "execution_count": null,
   "metadata": {
    "colab": {
     "base_uri": "https://localhost:8080/",
     "height": 195
    },
    "id": "Jna3hQ078HB2",
    "outputId": "504e8ff7-c915-4ae2-c8c0-3ba435a1b2e8"
   },
   "outputs": [],
   "source": [
    "#join the movie indices\n",
    "df_with_index = pd.merge(ratings,item_indices,on='movieId')\n",
    "#join the user indices\n",
    "df_with_index=pd.merge(df_with_index,user_indices,on='userId')\n",
    "#inspec the data frame\n",
    "df_with_index.head()"
   ]
  },
  {
   "cell_type": "code",
   "execution_count": null,
   "metadata": {
    "colab": {
     "base_uri": "https://localhost:8080/",
     "height": 50
    },
    "id": "SA16octV8HB4",
    "outputId": "3088b8fa-aff5-4f46-88e9-61c703f7c8ca"
   },
   "outputs": [],
   "source": [
    "#import train_test_split module\n",
    "from sklearn.model_selection import train_test_split\n",
    "#take 80% as the training set and 20% as the test set\n",
    "df_train, df_test= train_test_split(df_with_index,test_size=0.2)\n",
    "print(len(df_train))\n",
    "print(len(df_test))"
   ]
  },
  {
   "cell_type": "code",
   "execution_count": null,
   "metadata": {
    "colab": {
     "base_uri": "https://localhost:8080/",
     "height": 195
    },
    "id": "--qRoS-L8HB6",
    "outputId": "a3679a4e-6301-42e5-91f5-1d79895e2146"
   },
   "outputs": [],
   "source": [
    "df_train.head()"
   ]
  },
  {
   "cell_type": "code",
   "execution_count": null,
   "metadata": {
    "colab": {
     "base_uri": "https://localhost:8080/",
     "height": 195
    },
    "id": "TBmfpGHX8HB8",
    "outputId": "955790a8-5d17-46f8-c6ff-debb1f4dba1e"
   },
   "outputs": [],
   "source": [
    "df_test.head()"
   ]
  },
  {
   "cell_type": "code",
   "execution_count": null,
   "metadata": {
    "colab": {
     "base_uri": "https://localhost:8080/",
     "height": 50
    },
    "id": "n8yHrACJ8HB9",
    "outputId": "989fd392-2b48-4d3c-d2af-8805e34e6696"
   },
   "outputs": [],
   "source": [
    "n_users = ratings.userId.unique().shape[0]\n",
    "n_items = ratings.movieId.unique().shape[0]\n",
    "print(n_users)\n",
    "print(n_items)"
   ]
  },
  {
   "cell_type": "code",
   "execution_count": null,
   "metadata": {
    "colab": {
     "base_uri": "https://localhost:8080/",
     "height": 34
    },
    "id": "fFPGzCz_8HCA",
    "outputId": "83dd9b5b-c23b-4ee5-bae8-8c8eb5718fa6"
   },
   "outputs": [],
   "source": [
    "#Create two user-item matrices, one for training and another for testing\n",
    "train_data_matrix = np.zeros((n_users, n_items))\n",
    "    #for every line in the data\n",
    "for line in df_train.itertuples():\n",
    "    #set the value in the column and row to \n",
    "    #line[1] is userId, line[2] is movieId and line[3] is rating, line[4] is movie_index and line[5] is user_index\n",
    "    train_data_matrix[line[5], line[4]] = line[3]\n",
    "train_data_matrix.shape"
   ]
  },
  {
   "cell_type": "code",
   "execution_count": null,
   "metadata": {
    "colab": {
     "base_uri": "https://localhost:8080/",
     "height": 34
    },
    "id": "LuwmPI1d8HCB",
    "outputId": "78868f4b-0b23-44c7-8764-88972cd34eea"
   },
   "outputs": [],
   "source": [
    "#Create two user-item matrices, one for training and another for testing\n",
    "test_data_matrix = np.zeros((n_users, n_items))\n",
    "    #for every line in the data\n",
    "for line in df_test[:1].itertuples():\n",
    "    #set the value in the column and row to \n",
    "    #line[1] is userId, line[2] is movieId and line[3] is rating, line[4] is movie_index and line[5] is user_index\n",
    "    #print(line[2])\n",
    "    test_data_matrix[line[5], line[4]] = line[3]\n",
    "    #train_data_matrix[line['movieId'], line['userId']] = line['rating']\n",
    "test_data_matrix.shape"
   ]
  },
  {
   "cell_type": "code",
   "execution_count": null,
   "metadata": {
    "colab": {
     "base_uri": "https://localhost:8080/",
     "height": 244
    },
    "id": "niR6UEHD8HCD",
    "outputId": "cbe6eaa7-6b23-4c50-a0e5-15f4fc65c001"
   },
   "outputs": [],
   "source": [
    "pd.DataFrame(train_data_matrix).head()"
   ]
  },
  {
   "cell_type": "code",
   "execution_count": null,
   "metadata": {
    "colab": {
     "base_uri": "https://localhost:8080/",
     "height": 34
    },
    "id": "mqcHfYmj8HCE",
    "outputId": "6f688e25-6b68-41b2-cd5b-22ae17505912"
   },
   "outputs": [],
   "source": [
    "df_train['rating'].max()"
   ]
  },
  {
   "cell_type": "code",
   "execution_count": null,
   "metadata": {
    "id": "HOtQTJM38HCG"
   },
   "outputs": [],
   "source": [
    "from sklearn.metrics import mean_squared_error\n",
    "from math import sqrt\n",
    "def rmse(prediction, ground_truth):\n",
    "    #select prediction values that are non-zero and flatten into 1 array\n",
    "    prediction = prediction[ground_truth.nonzero()].flatten() \n",
    "    #select test values that are non-zero and flatten into 1 array\n",
    "    ground_truth = ground_truth[ground_truth.nonzero()].flatten()\n",
    "    #return RMSE between values\n",
    "    return sqrt(mean_squared_error(prediction, ground_truth))"
   ]
  },
  {
   "cell_type": "code",
   "execution_count": null,
   "metadata": {
    "colab": {
     "base_uri": "https://localhost:8080/",
     "height": 118
    },
    "id": "rbZ24WnR8HCJ",
    "outputId": "4cc0e723-e841-4b07-a0a5-1dccebb6c3cf"
   },
   "outputs": [],
   "source": [
    "#Calculate the rmse sscore of SVD using different values of k (latent features)\n",
    "rmse_list = []\n",
    "for i in [1,2,5,20,40,60,100,200]:\n",
    "    #apply svd to the test data\n",
    "    u,s,vt = svds(train_data_matrix,k=i)\n",
    "    #get diagonal matrix\n",
    "    s_diag_matrix=np.diag(s)\n",
    "    #predict x with dot product of u s_diag and vt\n",
    "    X_pred = np.dot(np.dot(u,s_diag_matrix),vt)\n",
    "    #calculate rmse score of matrix factorisation predictions\n",
    "    rmse_score = rmse(X_pred,test_data_matrix)\n",
    "    rmse_list.append(rmse_score)\n",
    "    print(\"Matrix Factorisation with \" + str(i) +\" latent features has a RMSE of \" + str(rmse_score))"
   ]
  },
  {
   "cell_type": "code",
   "execution_count": null,
   "metadata": {
    "id": "vgKn_u_G8HCL"
   },
   "outputs": [],
   "source": [
    "#Convert predictions to a DataFrame\n",
    "mf_pred = pd.DataFrame(X_pred)\n",
    "mf_pred.head()"
   ]
  },
  {
   "cell_type": "code",
   "execution_count": null,
   "metadata": {
    "id": "fuQS21WK8HCN"
   },
   "outputs": [],
   "source": [
    "df_names = pd.merge(ratings,movie_list,on='movieId')\n",
    "df_names.head()"
   ]
  },
  {
   "cell_type": "code",
   "execution_count": null,
   "metadata": {
    "id": "4xkRLBCU8HCO"
   },
   "outputs": [],
   "source": [
    "#choose a user ID\n",
    "user_id = 1\n",
    "#get movies rated by this user id\n",
    "users_movies = df_names.loc[df_names[\"userId\"]==user_id]\n",
    "#print how many ratings user has made \n",
    "print(\"User ID : \" + str(user_id) + \" has already rated \" + str(len(users_movies)) + \" movies\")\n",
    "#list movies that have been rated\n",
    "users_movies"
   ]
  },
  {
   "cell_type": "code",
   "execution_count": null,
   "metadata": {
    "id": "SQ2xMLTP8HCR"
   },
   "outputs": [],
   "source": [
    "user_index = df_train.loc[df_train[\"userId\"]==user_id]['user_index'][:1].values[0]\n",
    "#get movie ratings predicted for this user and sort by highest rating prediction\n",
    "sorted_user_predictions = pd.DataFrame(mf_pred.iloc[user_index].sort_values(ascending=False))\n",
    "#rename the columns\n",
    "sorted_user_predictions.columns=['ratings']\n",
    "#save the index values as movie id\n",
    "sorted_user_predictions['movieId']=sorted_user_predictions.index\n",
    "print(\"Top 10 predictions for User \" + str(user_id))\n",
    "#display the top 10 predictions for this user\n",
    "pd.merge(sorted_user_predictions,movie_list, on = 'movieId')[:10]"
   ]
  },
  {
   "cell_type": "code",
   "execution_count": null,
   "metadata": {
    "id": "0TupLmtN8HCS"
   },
   "outputs": [],
   "source": [
    "#count number of unique users\n",
    "numUsers = df_train.userId.unique().shape[0]\n",
    "#count number of unitque movies\n",
    "numMovies = df_train.movieId.unique().shape[0]\n",
    "print(len(df_train))\n",
    "print(numUsers) \n",
    "print(numMovies) "
   ]
  },
  {
   "cell_type": "code",
   "execution_count": null,
   "metadata": {
    "id": "UHO4nnuj8HCU"
   },
   "outputs": [],
   "source": [
    "#Separate out the values of the df_train data set into separate variables\n",
    "Users = df_train['userId'].values\n",
    "Movies = df_train['movieId'].values\n",
    "Ratings = df_train['rating'].values\n",
    "print(Users),print(len(Users))\n",
    "print(Movies),print(len(Movies))\n",
    "print(Ratings),print(len(Ratings))"
   ]
  },
  {
   "cell_type": "code",
   "execution_count": null,
   "metadata": {
    "id": "zoxbHVsT8HCW"
   },
   "outputs": [],
   "source": [
    "#import libraries\n",
    "import keras\n",
    "from keras.layers import Embedding, Reshape, Merge\n",
    "from keras.models import Sequential\n",
    "from keras.optimizers import Adam\n",
    "from keras.callbacks import EarlyStopping, ModelCheckpoint"
   ]
  },
  {
   "cell_type": "code",
   "execution_count": null,
   "metadata": {
    "id": "sjKM4bBH8HCX"
   },
   "outputs": [],
   "source": [
    "from keras.utils import plot_model"
   ]
  },
  {
   "cell_type": "code",
   "execution_count": null,
   "metadata": {
    "id": "GDenBylC8HCa"
   },
   "outputs": [],
   "source": [
    "# Couting no of unique users and movies\n",
    "len(ratings.userId.unique()), len(ratings.movieId.unique())"
   ]
  },
  {
   "cell_type": "code",
   "execution_count": null,
   "metadata": {
    "id": "DtVUfjRe8HCb"
   },
   "outputs": [],
   "source": [
    "# Assigning a unique value to each user and movie in range 0,no_of_users and 0,no_of_movies respectively.\n",
    "ratings.userId = ratings.userId.astype('category').cat.codes.values\n",
    "ratings.movieId = ratings.movieId.astype('category').cat.codes.values"
   ]
  },
  {
   "cell_type": "code",
   "execution_count": null,
   "metadata": {
    "id": "xrDiyA1C8HCd"
   },
   "outputs": [],
   "source": [
    "# Splitting the data into train and test.\n",
    "train, test = train_test_split(ratings, test_size=0.2)"
   ]
  },
  {
   "cell_type": "code",
   "execution_count": null,
   "metadata": {
    "id": "047NyNaa8HCf"
   },
   "outputs": [],
   "source": [
    "train.head()"
   ]
  },
  {
   "cell_type": "code",
   "execution_count": null,
   "metadata": {
    "id": "DL2FbvmY8HCm"
   },
   "outputs": [],
   "source": [
    "test.head()"
   ]
  },
  {
   "cell_type": "code",
   "execution_count": null,
   "metadata": {
    "id": "utfL7MK28HCn"
   },
   "outputs": [],
   "source": [
    "n_users, n_movies = len(ratings.userId.unique()), len(ratings.movieId.unique())"
   ]
  },
  {
   "cell_type": "code",
   "execution_count": null,
   "metadata": {
    "id": "dvm3gThn8HCp"
   },
   "outputs": [],
   "source": [
    "# Returns a neural network model which performs matrix factorisation\n",
    "def matrix_factorisation_model_with_n_latent_factors(n_latent_factors) :\n",
    "    movie_input = keras.layers.Input(shape=[1],name='Item')\n",
    "    movie_embedding = keras.layers.Embedding(n_movies + 1, n_latent_factors, name='Movie-Embedding')(movie_input)\n",
    "    movie_vec = keras.layers.Flatten(name='FlattenMovies')(movie_embedding)\n",
    "\n",
    "    user_input = keras.layers.Input(shape=[1],name='User')\n",
    "    user_vec = keras.layers.Flatten(name='FlattenUsers')(keras.layers.Embedding(n_users + 1, n_latent_factors,name='User-Embedding')(user_input))\n",
    "    prod = keras.layers.merge([movie_vec, user_vec], mode='dot',name='DotProduct')\n",
    "    \n",
    "    model = keras.Model([user_input, movie_input], prod)\n",
    "    model.compile('adam', 'mean_squared_error')\n",
    "    \n",
    "    return model"
   ]
  },
  {
   "cell_type": "code",
   "execution_count": null,
   "metadata": {
    "id": "mQDOK9dD8HCq"
   },
   "outputs": [],
   "source": [
    "model = matrix_factorisation_model_with_n_latent_factors(5)"
   ]
  },
  {
   "cell_type": "code",
   "execution_count": null,
   "metadata": {
    "id": "UYNb9D1U8HCr"
   },
   "outputs": [],
   "source": [
    "model.summary()"
   ]
  },
  {
   "cell_type": "code",
   "execution_count": null,
   "metadata": {
    "id": "PS20yqKe8HCt"
   },
   "outputs": [],
   "source": [
    "#Training the model\n",
    "history = model.fit([train.userId, train.movieId], train.rating, epochs=50, verbose=0)"
   ]
  },
  {
   "cell_type": "code",
   "execution_count": null,
   "metadata": {
    "id": "nAso6L2u8HCu"
   },
   "outputs": [],
   "source": [
    "y_hat = np.round(model.predict([test.userId, test.movieId]),0)\n",
    "y_true = test.rating"
   ]
  },
  {
   "cell_type": "code",
   "execution_count": null,
   "metadata": {
    "id": "548_cgCh8HCv"
   },
   "outputs": [],
   "source": [
    "from sklearn.metrics import mean_absolute_error\n",
    "mean_absolute_error(y_true, y_hat)"
   ]
  },
  {
   "cell_type": "code",
   "execution_count": null,
   "metadata": {
    "id": "BYE4UJwf8HCw"
   },
   "outputs": [],
   "source": [
    "#Getting summary of movie embeddings\n",
    "movie_embedding_learnt = model.get_layer(name='Movie-Embedding').get_weights()[0]\n",
    "pd.DataFrame(movie_embedding_learnt).describe()"
   ]
  },
  {
   "cell_type": "code",
   "execution_count": null,
   "metadata": {
    "id": "P6ylHKMh8HCy"
   },
   "outputs": [],
   "source": [
    "# Getting summary of user embeddings from the model\n",
    "user_embedding_learnt = model.get_layer(name='User-Embedding').get_weights()[0]\n",
    "pd.DataFrame(user_embedding_learnt).describe()"
   ]
  },
  {
   "cell_type": "code",
   "execution_count": null,
   "metadata": {
    "id": "IB9EJDAk8HC1"
   },
   "outputs": [],
   "source": [
    "from keras.constraints import non_neg"
   ]
  },
  {
   "cell_type": "code",
   "execution_count": null,
   "metadata": {
    "id": "p9b9YXZP8HC2"
   },
   "outputs": [],
   "source": [
    "# Returns a neural network model which performs matrix factorisation with additional constraint on embeddings(that they can't be negative)\n",
    "def matrix_factorisation_model_with_n_latent_factors_and_non_negative_embedding(n_latent_factors) :\n",
    "    movie_input = keras.layers.Input(shape=[1],name='Item')\n",
    "    movie_embedding = keras.layers.Embedding(n_movies + 1, n_latent_factors, name='Non-Negative-Movie-Embedding',embeddings_constraint=non_neg())(movie_input)\n",
    "    movie_vec = keras.layers.Flatten(name='FlattenMovies')(movie_embedding)\n",
    "\n",
    "    user_input = keras.layers.Input(shape=[1],name='User')\n",
    "    user_vec = keras.layers.Flatten(name='FlattenUsers')(keras.layers.Embedding(n_users + 1, n_latent_factors,name='Non-Negative-User-Embedding',embeddings_constraint=non_neg())(user_input))\n",
    "    prod = keras.layers.merge([movie_vec, user_vec], mode='dot',name='DotProduct')\n",
    "    \n",
    "    model = keras.Model([user_input, movie_input], prod)\n",
    "    model.compile('adam', 'mean_squared_error')\n",
    "    \n",
    "    return model"
   ]
  },
  {
   "cell_type": "code",
   "execution_count": null,
   "metadata": {
    "id": "13x6SDug8HC3"
   },
   "outputs": [],
   "source": [
    "model2 = matrix_factorisation_model_with_n_latent_factors_and_non_negative_embedding(5)"
   ]
  },
  {
   "cell_type": "code",
   "execution_count": null,
   "metadata": {
    "id": "hRzVSrAK8HC4"
   },
   "outputs": [],
   "source": [
    "model2.summary()"
   ]
  },
  {
   "cell_type": "code",
   "execution_count": null,
   "metadata": {
    "id": "6QawlFkj8HC5"
   },
   "outputs": [],
   "source": [
    "history_nonneg = model2.fit([train.userId, train.movieId], train.rating, epochs=50, verbose=0)"
   ]
  },
  {
   "cell_type": "code",
   "execution_count": null,
   "metadata": {
    "id": "QSMTfGnE8HC7"
   },
   "outputs": [],
   "source": [
    "movie_embedding_learnt = model2.get_layer(name='Non-Negative-Movie-Embedding').get_weights()[0]\n",
    "pd.DataFrame(movie_embedding_learnt).describe()"
   ]
  },
  {
   "cell_type": "code",
   "execution_count": null,
   "metadata": {
    "id": "eStAbiew8HC8"
   },
   "outputs": [],
   "source": [
    "y_hat = np.round(model2.predict([test.userId, test.movieId]),0)\n",
    "y_true = test.rating"
   ]
  },
  {
   "cell_type": "code",
   "execution_count": null,
   "metadata": {
    "id": "LXiwkhtb8HC-"
   },
   "outputs": [],
   "source": [
    "mean_absolute_error(y_true, y_hat)"
   ]
  },
  {
   "cell_type": "code",
   "execution_count": null,
   "metadata": {
    "id": "y9qY2wWv8HC_"
   },
   "outputs": [],
   "source": [
    "# Returns a neural network model which does recommendation\n",
    "def neural_network_model(n_latent_factors_user, n_latent_factors_movie):\n",
    "    \n",
    "    movie_input = keras.layers.Input(shape=[1],name='Item')\n",
    "    movie_embedding = keras.layers.Embedding(n_movies + 1, n_latent_factors_movie, name='Movie-Embedding')(movie_input)\n",
    "    movie_vec = keras.layers.Flatten(name='FlattenMovies')(movie_embedding)\n",
    "    movie_vec = keras.layers.Dropout(0.2)(movie_vec)\n",
    "\n",
    "\n",
    "    user_input = keras.layers.Input(shape=[1],name='User')\n",
    "    user_vec = keras.layers.Flatten(name='FlattenUsers')(keras.layers.Embedding(n_users + 1, n_latent_factors_user,name='User-Embedding')(user_input))\n",
    "    user_vec = keras.layers.Dropout(0.2)(user_vec)\n",
    "\n",
    "\n",
    "    concat = keras.layers.merge([movie_vec, user_vec], mode='concat',name='Concat')\n",
    "    concat_dropout = keras.layers.Dropout(0.2)(concat)\n",
    "    dense = keras.layers.Dense(100,name='FullyConnected')(concat)\n",
    "    dropout_1 = keras.layers.Dropout(0.2,name='Dropout')(dense)\n",
    "    dense_2 = keras.layers.Dense(50,name='FullyConnected-1')(concat)\n",
    "    dropout_2 = keras.layers.Dropout(0.2,name='Dropout')(dense_2)\n",
    "    dense_3 = keras.layers.Dense(20,name='FullyConnected-2')(dense_2)\n",
    "    dropout_3 = keras.layers.Dropout(0.2,name='Dropout')(dense_3)\n",
    "    dense_4 = keras.layers.Dense(10,name='FullyConnected-3', activation='relu')(dense_3)\n",
    "\n",
    "\n",
    "    result = keras.layers.Dense(1, activation='relu',name='Activation')(dense_4)\n",
    "    adam = Adam(lr=0.005)\n",
    "    model = keras.Model([user_input, movie_input], result)\n",
    "    model.compile(optimizer=adam,loss= 'mean_absolute_error')\n",
    "    return model"
   ]
  },
  {
   "cell_type": "code",
   "execution_count": null,
   "metadata": {
    "id": "7Qemlxvc8HDA"
   },
   "outputs": [],
   "source": [
    "model3 = neural_network_model(10,13)"
   ]
  },
  {
   "cell_type": "code",
   "execution_count": null,
   "metadata": {
    "id": "CoPdTUkI8HDC"
   },
   "outputs": [],
   "source": [
    "history_neural_network = model3.fit([train.userId, train.movieId], train.rating, epochs=50, verbose=0)"
   ]
  },
  {
   "cell_type": "code",
   "execution_count": null,
   "metadata": {
    "id": "VDFAg2ew8HDD"
   },
   "outputs": [],
   "source": [
    "model3.summary()"
   ]
  },
  {
   "cell_type": "code",
   "execution_count": null,
   "metadata": {
    "id": "XKEO4lNy8HDE"
   },
   "outputs": [],
   "source": [
    "y_hat = np.round(model3.predict([test.userId, test.movieId]),0)\n",
    "y_true = test.rating"
   ]
  },
  {
   "cell_type": "code",
   "execution_count": null,
   "metadata": {
    "id": "p9i0pDBk8HDF"
   },
   "outputs": [],
   "source": [
    "mean_absolute_error(y_true, y_hat)"
   ]
  }
 ],
 "metadata": {
  "colab": {
   "name": "Recommovie-9604_Notebook.ipynb",
   "provenance": []
  },
  "kernelspec": {
   "display_name": "Python 3 (ipykernel)",
   "language": "python",
   "name": "python3"
  },
  "language_info": {
   "codemirror_mode": {
    "name": "ipython",
    "version": 3
   },
   "file_extension": ".py",
   "mimetype": "text/x-python",
   "name": "python",
   "nbconvert_exporter": "python",
   "pygments_lexer": "ipython3",
   "version": "3.10.4"
  }
 },
 "nbformat": 4,
 "nbformat_minor": 1
}
